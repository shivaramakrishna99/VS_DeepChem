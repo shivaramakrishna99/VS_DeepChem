{
  "nbformat": 4,
  "nbformat_minor": 0,
  "metadata": {
    "colab": {
      "name": "ZINC_filter.ipynb",
      "provenance": [],
      "collapsed_sections": [],
      "toc_visible": true
    },
    "kernelspec": {
      "name": "python3",
      "display_name": "Python 3"
    }
  },
  "cells": [
    {
      "cell_type": "markdown",
      "metadata": {
        "id": "bo0mkGhyB-NA",
        "colab_type": "text"
      },
      "source": [
        "# Filter Compounds"
      ]
    },
    {
      "cell_type": "code",
      "metadata": {
        "id": "z11nJ_NHB8dc",
        "colab_type": "code",
        "colab": {
          "base_uri": "https://localhost:8080/",
          "height": 1000
        },
        "outputId": "aa04e05d-9692-49c5-c823-91cde2f21570"
      },
      "source": [
        "!wget -c https://repo.anaconda.com/miniconda/Miniconda3-latest-Linux-x86_64.sh\n",
        "!chmod +x Miniconda3-latest-Linux-x86_64.sh\n",
        "!bash ./Miniconda3-latest-Linux-x86_64.sh -b -f -p /usr/local\n",
        "!conda install -y -c deepchem -c rdkit -c conda-forge -c omnia deepchem-gpu=2.3.0\n",
        "import sys\n",
        "sys.path.append('/usr/local/lib/python3.7/site-packages/')"
      ],
      "execution_count": null,
      "outputs": [
        {
          "output_type": "stream",
          "text": [
            "--2020-07-08 10:07:38--  https://repo.anaconda.com/miniconda/Miniconda3-latest-Linux-x86_64.sh\n",
            "Resolving repo.anaconda.com (repo.anaconda.com)... 104.16.131.3, 104.16.130.3, 2606:4700::6810:8303, ...\n",
            "Connecting to repo.anaconda.com (repo.anaconda.com)|104.16.131.3|:443... connected.\n",
            "HTTP request sent, awaiting response... 200 OK\n",
            "Length: 88867207 (85M) [application/x-sh]\n",
            "Saving to: ‘Miniconda3-latest-Linux-x86_64.sh’\n",
            "\n",
            "\r          Miniconda   0%[                    ]       0  --.-KB/s               \r         Miniconda3  31%[=====>              ]  26.91M   135MB/s               \r        Miniconda3-  81%[===============>    ]  69.45M   174MB/s               \rMiniconda3-latest-L 100%[===================>]  84.75M   180MB/s    in 0.5s    \n",
            "\n",
            "2020-07-08 10:07:39 (180 MB/s) - ‘Miniconda3-latest-Linux-x86_64.sh’ saved [88867207/88867207]\n",
            "\n",
            "PREFIX=/usr/local\n",
            "Unpacking payload ...\n",
            "Collecting package metadata (current_repodata.json): - \b\b\\ \b\b| \b\bdone\n",
            "Solving environment: - \b\b\\ \b\bdone\n",
            "\n",
            "## Package Plan ##\n",
            "\n",
            "  environment location: /usr/local\n",
            "\n",
            "  added / updated specs:\n",
            "    - _libgcc_mutex==0.1=main\n",
            "    - ca-certificates==2020.1.1=0\n",
            "    - certifi==2020.4.5.1=py37_0\n",
            "    - cffi==1.14.0=py37he30daa8_1\n",
            "    - chardet==3.0.4=py37_1003\n",
            "    - conda-package-handling==1.6.1=py37h7b6447c_0\n",
            "    - conda==4.8.3=py37_0\n",
            "    - cryptography==2.9.2=py37h1ba5d50_0\n",
            "    - idna==2.9=py_1\n",
            "    - ld_impl_linux-64==2.33.1=h53a641e_7\n",
            "    - libedit==3.1.20181209=hc058e9b_0\n",
            "    - libffi==3.3=he6710b0_1\n",
            "    - libgcc-ng==9.1.0=hdf63c60_0\n",
            "    - libstdcxx-ng==9.1.0=hdf63c60_0\n",
            "    - ncurses==6.2=he6710b0_1\n",
            "    - openssl==1.1.1g=h7b6447c_0\n",
            "    - pip==20.0.2=py37_3\n",
            "    - pycosat==0.6.3=py37h7b6447c_0\n",
            "    - pycparser==2.20=py_0\n",
            "    - pyopenssl==19.1.0=py37_0\n",
            "    - pysocks==1.7.1=py37_0\n",
            "    - python==3.7.7=hcff3b4d_5\n",
            "    - readline==8.0=h7b6447c_0\n",
            "    - requests==2.23.0=py37_0\n",
            "    - ruamel_yaml==0.15.87=py37h7b6447c_0\n",
            "    - setuptools==46.4.0=py37_0\n",
            "    - six==1.14.0=py37_0\n",
            "    - sqlite==3.31.1=h62c20be_1\n",
            "    - tk==8.6.8=hbc83047_0\n",
            "    - tqdm==4.46.0=py_0\n",
            "    - urllib3==1.25.8=py37_0\n",
            "    - wheel==0.34.2=py37_0\n",
            "    - xz==5.2.5=h7b6447c_0\n",
            "    - yaml==0.1.7=had09818_2\n",
            "    - zlib==1.2.11=h7b6447c_3\n",
            "\n",
            "\n",
            "The following NEW packages will be INSTALLED:\n",
            "\n",
            "  _libgcc_mutex      pkgs/main/linux-64::_libgcc_mutex-0.1-main\n",
            "  ca-certificates    pkgs/main/linux-64::ca-certificates-2020.1.1-0\n",
            "  certifi            pkgs/main/linux-64::certifi-2020.4.5.1-py37_0\n",
            "  cffi               pkgs/main/linux-64::cffi-1.14.0-py37he30daa8_1\n",
            "  chardet            pkgs/main/linux-64::chardet-3.0.4-py37_1003\n",
            "  conda              pkgs/main/linux-64::conda-4.8.3-py37_0\n",
            "  conda-package-han~ pkgs/main/linux-64::conda-package-handling-1.6.1-py37h7b6447c_0\n",
            "  cryptography       pkgs/main/linux-64::cryptography-2.9.2-py37h1ba5d50_0\n",
            "  idna               pkgs/main/noarch::idna-2.9-py_1\n",
            "  ld_impl_linux-64   pkgs/main/linux-64::ld_impl_linux-64-2.33.1-h53a641e_7\n",
            "  libedit            pkgs/main/linux-64::libedit-3.1.20181209-hc058e9b_0\n",
            "  libffi             pkgs/main/linux-64::libffi-3.3-he6710b0_1\n",
            "  libgcc-ng          pkgs/main/linux-64::libgcc-ng-9.1.0-hdf63c60_0\n",
            "  libstdcxx-ng       pkgs/main/linux-64::libstdcxx-ng-9.1.0-hdf63c60_0\n",
            "  ncurses            pkgs/main/linux-64::ncurses-6.2-he6710b0_1\n",
            "  openssl            pkgs/main/linux-64::openssl-1.1.1g-h7b6447c_0\n",
            "  pip                pkgs/main/linux-64::pip-20.0.2-py37_3\n",
            "  pycosat            pkgs/main/linux-64::pycosat-0.6.3-py37h7b6447c_0\n",
            "  pycparser          pkgs/main/noarch::pycparser-2.20-py_0\n",
            "  pyopenssl          pkgs/main/linux-64::pyopenssl-19.1.0-py37_0\n",
            "  pysocks            pkgs/main/linux-64::pysocks-1.7.1-py37_0\n",
            "  python             pkgs/main/linux-64::python-3.7.7-hcff3b4d_5\n",
            "  readline           pkgs/main/linux-64::readline-8.0-h7b6447c_0\n",
            "  requests           pkgs/main/linux-64::requests-2.23.0-py37_0\n",
            "  ruamel_yaml        pkgs/main/linux-64::ruamel_yaml-0.15.87-py37h7b6447c_0\n",
            "  setuptools         pkgs/main/linux-64::setuptools-46.4.0-py37_0\n",
            "  six                pkgs/main/linux-64::six-1.14.0-py37_0\n",
            "  sqlite             pkgs/main/linux-64::sqlite-3.31.1-h62c20be_1\n",
            "  tk                 pkgs/main/linux-64::tk-8.6.8-hbc83047_0\n",
            "  tqdm               pkgs/main/noarch::tqdm-4.46.0-py_0\n",
            "  urllib3            pkgs/main/linux-64::urllib3-1.25.8-py37_0\n",
            "  wheel              pkgs/main/linux-64::wheel-0.34.2-py37_0\n",
            "  xz                 pkgs/main/linux-64::xz-5.2.5-h7b6447c_0\n",
            "  yaml               pkgs/main/linux-64::yaml-0.1.7-had09818_2\n",
            "  zlib               pkgs/main/linux-64::zlib-1.2.11-h7b6447c_3\n",
            "\n",
            "\n",
            "Preparing transaction: / \b\b- \b\b\\ \b\bdone\n",
            "Executing transaction: / \b\b- \b\b\\ \b\b| \b\b/ \b\b- \b\b\\ \b\b| \b\b/ \b\b- \b\b\\ \b\b| \b\b/ \b\b- \b\bdone\n",
            "installation finished.\n",
            "WARNING:\n",
            "    You currently have a PYTHONPATH environment variable set. This may cause\n",
            "    unexpected behavior when running the Python interpreter in Miniconda3.\n",
            "    For best results, please verify that your PYTHONPATH only points to\n",
            "    directories of packages that are compatible with the Python interpreter\n",
            "    in Miniconda3: /usr/local\n",
            "Collecting package metadata (current_repodata.json): - \b\b\\ \b\b| \b\b/ \b\b- \b\b\\ \b\b| \b\b/ \b\b- \b\b\\ \b\b| \b\b/ \b\b- \b\b\\ \b\b| \b\b/ \b\b- \b\b\\ \b\b| \b\b/ \b\b- \b\b\\ \b\b| \b\b/ \b\b- \b\b\\ \b\b| \b\b/ \b\b- \b\b\\ \b\b| \b\b/ \b\b- \b\b\\ \b\b| \b\b/ \b\b- \b\b\\ \b\b| \b\b/ \b\b- \b\b\\ \b\b| \b\b/ \b\b- \b\b\\ \b\b| \b\b/ \b\b- \b\b\\ \b\b| \b\b/ \b\b- \b\b\\ \b\b| \b\b/ \b\b- \b\b\\ \b\b| \b\b/ \b\b- \b\b\\ \b\b| \b\b/ \b\b- \b\b\\ \b\b| \b\b/ \b\b- \b\b\\ \b\b| \b\b/ \b\b- \b\b\\ \b\b| \b\b/ \b\b- \b\bdone\n",
            "Solving environment: | \b\b/ \b\b- \b\b\\ \b\b| \b\b/ \b\b- \b\b\\ \b\b| \b\b/ \b\b- \b\b\\ \b\b| \b\b/ \b\b- \b\b\\ \b\b| \b\b/ \b\b- \b\b\\ \b\b| \b\b/ \b\b- \b\b\\ \b\b| \b\b/ \b\b- \b\b\\ \b\b| \b\b/ \b\b- \b\b\\ \b\b| \b\b/ \b\b- \b\b\\ \b\b| \b\b/ \b\b- \b\b\\ \b\b| \b\b/ \b\b- \b\b\\ \b\b| \b\b/ \b\b- \b\b\\ \b\b| \b\b/ \b\b- \b\b\\ \b\b| \b\b/ \b\b- \b\b\\ \b\b| \b\b/ \b\b- \b\b\\ \b\b| \b\b/ \b\b- \b\b\\ \b\b| \b\b/ \b\b- \b\b\\ \b\b| \b\b/ \b\b- \b\b\\ \b\b| \b\bfailed with initial frozen solve. Retrying with flexible solve.\n",
            "Solving environment: - \b\b\\ \b\b| \b\b/ \b\b- \b\b\\ \b\b| \b\b/ \b\b- \b\b\\ \b\b| \b\b/ \b\b- \b\b\\ \b\b| \b\b/ \b\b- \b\b\\ \b\b| \b\b/ \b\b- \b\b\\ \b\b| \b\b/ \b\b- \b\b\\ \b\b| \b\b/ \b\b- \b\b\\ \b\b| \b\b/ \b\b- \b\b\\ \b\b| \b\b/ \b\b- \b\b\\ \b\b| \b\b/ \b\b- \b\b\\ \b\b| \b\b/ \b\b- \b\b\\ \b\b| \b\b/ \b\b- \b\b\\ \b\b| \b\b/ \b\b- \b\b\\ \b\b| \b\b/ \b\b- \b\b\\ \b\b| \b\b/ \b\b- \b\b\\ \b\b| \b\b/ \b\b- \b\b\\ \b\b| \b\b/ \b\b- \b\b\\ \b\b| \b\b/ \b\b- \b\b\\ \b\b| \b\b/ \b\b- \b\b\\ \b\b| \b\b/ \b\b- \b\b\\ \b\b| \b\b/ \b\b- \b\b\\ \b\b| \b\b/ \b\b- \b\b\\ \b\b| \b\bfailed with repodata from current_repodata.json, will retry with next repodata source.\n",
            "Collecting package metadata (repodata.json): - \b\b\\ \b\b| \b\b/ \b\b- \b\b\\ \b\b| \b\b/ \b\b- \b\b\\ \b\b| \b\b/ \b\b- \b\b\\ \b\b| \b\b/ \b\b- \b\b\\ \b\b| \b\b/ \b\b- \b\b\\ \b\b| \b\b/ \b\b- \b\b\\ \b\b| \b\b/ \b\b- \b\b\\ \b\b| \b\b/ \b\b- \b\b\\ \b\b| \b\b/ \b\b- \b\b\\ \b\b| \b\b/ \b\b- \b\b\\ \b\b| \b\b/ \b\b- \b\b\\ \b\b| \b\b/ \b\b- \b\b\\ \b\b| \b\b/ \b\b- \b\b\\ \b\b| \b\b/ \b\b- \b\b\\ \b\b| \b\b/ \b\b- \b\b\\ \b\b| \b\b/ \b\b- \b\b\\ \b\b| \b\b/ \b\b- \b\b\\ \b\b| \b\b/ \b\b- \b\b\\ \b\b| \b\b/ \b\b- \b\b\\ \b\b| \b\b/ \b\b- \b\b\\ \b\b| \b\b/ \b\b- \b\b\\ \b\b| \b\b/ \b\b- \b\b\\ \b\b| \b\b/ \b\b- \b\b\\ \b\b| \b\b/ \b\b- \b\b\\ \b\b| \b\b/ \b\b- \b\b\\ \b\b| \b\b/ \b\b- \b\b\\ \b\b| \b\b/ \b\b- \b\b\\ \b\b| \b\b/ \b\b- \b\b\\ \b\b| \b\b/ \b\b- \b\b\\ \b\b| \b\b/ \b\b- \b\b\\ \b\b| \b\b/ \b\b- \b\b\\ \b\b| \b\b/ \b\b- \b\b\\ \b\b| \b\b/ \b\b- \b\b\\ \b\b| \b\b/ \b\b- \b\b\\ \b\b| \b\b/ \b\b- \b\b\\ \b\b| \b\b/ \b\b- \b\b\\ \b\b| \b\b/ \b\b- \b\b\\ \b\b| \b\b/ \b\b- \b\b\\ \b\b| \b\b/ \b\b- \b\b\\ \b\b| \b\b/ \b\b- \b\b\\ \b\b| \b\b/ \b\b- \b\b\\ \b\b| \b\b/ \b\b- \b\b\\ \b\b| \b\b/ \b\b- \b\b\\ \b\b| \b\b/ \b\b- \b\b\\ \b\b| \b\b/ \b\b- \b\b\\ \b\b| \b\b/ \b\b- \b\b\\ \b\b| \b\b/ \b\b- \b\b\\ \b\b| \b\b/ \b\b- \b\b\\ \b\b| \b\b/ \b\b- \b\b\\ \b\b| \b\b/ \b\b- \b\b\\ \b\b| \b\b/ \b\b- \b\b\\ \b\b| \b\b/ \b\b- \b\b\\ \b\b| \b\b/ \b\b- \b\b\\ \b\b| \b\b/ \b\b- \b\b\\ \b\b| \b\b/ \b\b- \b\b\\ \b\b| \b\b/ \b\b- \b\b\\ \b\b| \b\b/ \b\b- \b\b\\ \b\bdone\n",
            "Solving environment: / \b\b- \b\b\\ \b\b| \b\b/ \b\b- \b\b\\ \b\b| \b\b/ \b\b- \b\b\\ \b\b| \b\b/ \b\b- \b\b\\ \b\b| \b\b/ \b\b- \b\b\\ \b\b| \b\b/ \b\b- \b\b\\ \b\b| \b\b/ \b\b- \b\b\\ \b\b| \b\b/ \b\b- \b\b\\ \b\b| \b\b/ \b\b- \b\b\\ \b\b| \b\b/ \b\b- \b\b\\ \b\b| \b\b/ \b\b- \b\b\\ \b\b| \b\b/ \b\b- \b\b\\ \b\b| \b\b/ \b\b- \b\b\\ \b\b| \b\b/ \b\b- \b\b\\ \b\b| \b\b/ \b\b- \b\b\\ \b\b| \b\b/ \b\b- \b\b\\ \b\b| \b\b/ \b\b- \b\b\\ \b\b| \b\b/ \b\b- \b\b\\ \b\b| \b\b/ \b\b- \b\b\\ \b\b| \b\b/ \b\b- \b\b\\ \b\b| \b\b/ \b\b- \b\b\\ \b\b| \b\b/ \b\b- \b\b\\ \b\b| \b\b/ \b\b- \b\b\\ \b\b| \b\b/ \b\b- \b\b\\ \b\b| \b\b/ \b\b- \b\b\\ \b\b| \b\b/ \b\b- \b\b\\ \b\b| \b\b/ \b\b- \b\b\\ \b\b| \b\b/ \b\b- \b\b\\ \b\b| \b\b/ \b\b- \b\b\\ \b\b| \b\b/ \b\b- \b\b\\ \b\b| \b\b/ \b\b- \b\b\\ \b\b| \b\b/ \b\b- \b\b\\ \b\b| \b\b/ \b\b- \b\b\\ \b\b| \b\b/ \b\b- \b\b\\ \b\b| \b\b/ \b\b- \b\b\\ \b\b| \b\b/ \b\b- \b\b\\ \b\b| \b\b/ \b\b- \b\b\\ \b\b| \b\b/ \b\b- \b\b\\ \b\b| \b\b/ \b\b- \b\b\\ \b\b| \b\b/ \b\b- \b\b\\ \b\b| \b\b/ \b\b- \b\b\\ \b\b| \b\b/ \b\b- \b\b\\ \b\b| \b\b/ \b\b- \b\b\\ \b\b| \b\b/ \b\b- \b\b\\ \b\b| \b\b/ \b\b- \b\b\\ \b\b| \b\b/ \b\b- \b\b\\ \b\b| \b\b/ \b\b- \b\b\\ \b\b| \b\b/ \b\b- \b\b\\ \b\b| \b\b/ \b\b- \b\b\\ \b\b| \b\b/ \b\b- \b\b\\ \b\b| \b\b/ \b\b- \b\b\\ \b\b| \b\b/ \b\b- \b\b\\ \b\b| \b\b/ \b\b- \b\b\\ \b\b| \b\b/ \b\b- \b\b\\ \b\b| \b\b/ \b\b- \b\b\\ \b\b| \b\b/ \b\b- \b\b\\ \b\b| \b\b/ \b\b- \b\b\\ \b\b| \b\b/ \b\b- \b\b\\ \b\b| \b\b/ \b\b- \b\b\\ \b\b| \b\b/ \b\b- \b\b\\ \b\b| \b\b/ \b\b- \b\b\\ \b\b| \b\b/ \b\b- \b\b\\ \b\b| \b\b/ \b\b- \b\b\\ \b\b| \b\b/ \b\b- \b\b\\ \b\b| \b\b/ \b\b- \b\b\\ \b\b| \b\b/ \b\b- \b\b\\ \b\b| \b\b/ \b\b- \b\b\\ \b\b| \b\b/ \b\b- \b\b\\ \b\b| \b\b/ \b\b- \b\b\\ \b\b| \b\b/ \b\b- \b\b\\ \b\b| \b\b/ \b\b- \b\b\\ \b\b| \b\b/ \b\b- \b\b\\ \b\b| \b\b/ \b\b- \b\b\\ \b\b| \b\b/ \b\b- \b\b\\ \b\b| \b\b/ \b\b- \b\b\\ \b\b| \b\b/ \b\b- \b\b\\ \b\b| \b\b/ \b\b- \b\b\\ \b\b| \b\b/ \b\b- \b\b\\ \b\b| \b\b/ \b\b- \b\b\\ \b\b| \b\b/ \b\b- \b\b\\ \b\b| \b\b/ \b\b- \b\b\\ \b\b| \b\b/ \b\b- \b\b\\ \b\b| \b\b/ \b\b- \b\b\\ \b\b| \b\b/ \b\b- \b\b\\ \b\b| \b\b/ \b\b- \b\b\\ \b\b| \b\b/ \b\b- \b\b\\ \b\b| \b\b/ \b\b- \b\b\\ \b\b| \b\b/ \b\b- \b\b\\ \b\b| \b\b/ \b\b- \b\b\\ \b\b| \b\b/ \b\b- \b\b\\ \b\b| \b\b/ \b\b- \b\b\\ \b\b| \b\b/ \b\b- \b\b\\ \b\b| \b\b/ \b\b- \b\b\\ \b\b| \b\b/ \b\b- \b\b\\ \b\b| \b\b/ \b\b- \b\b\\ \b\b| \b\b/ \b\b- \b\bdone\n",
            "\n",
            "## Package Plan ##\n",
            "\n",
            "  environment location: /usr/local\n",
            "\n",
            "  added / updated specs:\n",
            "    - deepchem-gpu=2.3.0\n",
            "\n",
            "\n",
            "The following packages will be downloaded:\n",
            "\n",
            "    package                    |            build\n",
            "    ---------------------------|-----------------\n",
            "    _py-xgboost-mutex-2.0      |            cpu_0           8 KB  conda-forge\n",
            "    _tflow_select-2.1.0        |              gpu           2 KB\n",
            "    absl-py-0.9.0              |   py37hc8dfbb8_1         162 KB  conda-forge\n",
            "    astor-0.8.1                |     pyh9f0ad1d_0          25 KB  conda-forge\n",
            "    attrs-19.3.0               |             py_0          35 KB  conda-forge\n",
            "    backcall-0.2.0             |     pyh9f0ad1d_0          13 KB  conda-forge\n",
            "    bleach-3.1.5               |     pyh9f0ad1d_0         112 KB  conda-forge\n",
            "    blosc-1.19.0               |       he1b5a44_0         887 KB  conda-forge\n",
            "    bzip2-1.0.8                |       h516909a_2         396 KB  conda-forge\n",
            "    c-ares-1.15.0              |    h516909a_1001         100 KB  conda-forge\n",
            "    ca-certificates-2020.6.20  |       hecda079_0         145 KB  conda-forge\n",
            "    cairo-1.16.0               |    h18b612c_1001         1.5 MB  conda-forge\n",
            "    certifi-2020.6.20          |   py37hc8dfbb8_0         151 KB  conda-forge\n",
            "    conda-4.8.3                |   py37hc8dfbb8_1         3.0 MB  conda-forge\n",
            "    cudatoolkit-10.1.243       |       h6bb024c_0       347.4 MB\n",
            "    cudnn-7.6.5                |       cuda10.1_0       179.9 MB\n",
            "    cupti-10.1.168             |                0         1.4 MB\n",
            "    cycler-0.10.0              |             py_2           9 KB  conda-forge\n",
            "    cython-0.29.20             |   py37h3340039_0         2.1 MB  conda-forge\n",
            "    dbus-1.13.6                |       he372182_0         602 KB  conda-forge\n",
            "    decorator-4.4.2            |             py_0          11 KB  conda-forge\n",
            "    deepchem-gpu-2.3.0         |           py37_0         2.1 MB  deepchem\n",
            "    defusedxml-0.6.0           |             py_0          22 KB  conda-forge\n",
            "    entrypoints-0.3            |py37hc8dfbb8_1001          12 KB  conda-forge\n",
            "    expat-2.2.9                |       he1b5a44_2         191 KB  conda-forge\n",
            "    fftw3f-3.3.4               |                2         1.2 MB  omnia\n",
            "    fontconfig-2.13.1          |    he4413a7_1000         327 KB  conda-forge\n",
            "    freetype-2.10.2            |       he06d7ca_0         905 KB  conda-forge\n",
            "    gast-0.3.3                 |             py_0          12 KB  conda-forge\n",
            "    glib-2.65.0                |       h3eb4bd4_0         2.9 MB\n",
            "    google-pasta-0.2.0         |     pyh8c360ce_0          42 KB  conda-forge\n",
            "    grpcio-1.27.2              |   py37hb0870dc_0         1.3 MB  conda-forge\n",
            "    gst-plugins-base-1.14.0    |       hbbd80ab_1         4.8 MB\n",
            "    gstreamer-1.14.0           |       hb31296c_0         3.1 MB\n",
            "    h5py-2.10.0                |nompi_py37h90cd8ad_103         1.1 MB  conda-forge\n",
            "    hdf5-1.10.6                |nompi_h3c11f04_100         3.0 MB  conda-forge\n",
            "    icu-58.2                   |    hf484d3e_1000        22.6 MB  conda-forge\n",
            "    importlib-metadata-1.7.0   |   py37hc8dfbb8_0          44 KB  conda-forge\n",
            "    importlib_metadata-1.7.0   |                0           3 KB  conda-forge\n",
            "    ipykernel-5.3.1            |   py37h43977f1_0         165 KB  conda-forge\n",
            "    ipython-7.16.1             |   py37h43977f1_0         1.1 MB  conda-forge\n",
            "    ipython_genutils-0.2.0     |             py_1          21 KB  conda-forge\n",
            "    ipywidgets-7.5.1           |             py_0         101 KB  conda-forge\n",
            "    jedi-0.17.1                |   py37hc8dfbb8_0         933 KB  conda-forge\n",
            "    jinja2-2.11.2              |     pyh9f0ad1d_0          93 KB  conda-forge\n",
            "    joblib-0.16.0              |             py_0         203 KB  conda-forge\n",
            "    jpeg-9d                    |       h516909a_0         266 KB  conda-forge\n",
            "    jsonschema-3.2.0           |   py37hc8dfbb8_1          89 KB  conda-forge\n",
            "    jupyter-1.0.0              |             py_2           4 KB  conda-forge\n",
            "    jupyter_client-6.1.5       |             py_0          75 KB  conda-forge\n",
            "    jupyter_console-6.1.0      |             py_1          21 KB  conda-forge\n",
            "    jupyter_core-4.6.3         |   py37hc8dfbb8_1          71 KB  conda-forge\n",
            "    keras-applications-1.0.8   |             py_1          30 KB  conda-forge\n",
            "    keras-preprocessing-1.1.0  |             py_0          33 KB  conda-forge\n",
            "    kiwisolver-1.2.0           |   py37h99015e2_0          87 KB  conda-forge\n",
            "    libblas-3.8.0              |      14_openblas          10 KB  conda-forge\n",
            "    libboost-1.67.0            |       h46d08c1_4        13.0 MB\n",
            "    libcblas-3.8.0             |      14_openblas          10 KB  conda-forge\n",
            "    libgfortran-ng-7.5.0       |       hdf63c60_6         1.7 MB  conda-forge\n",
            "    libiconv-1.15              |    h516909a_1006         2.0 MB  conda-forge\n",
            "    liblapack-3.8.0            |      14_openblas          10 KB  conda-forge\n",
            "    libopenblas-0.3.7          |       h5ec1e0e_6         7.6 MB  conda-forge\n",
            "    libpng-1.6.37              |       hed695b0_1         308 KB  conda-forge\n",
            "    libprotobuf-3.12.3         |       h8b12597_0         4.9 MB  conda-forge\n",
            "    libsodium-1.0.17           |       h516909a_0         330 KB  conda-forge\n",
            "    libtiff-4.1.0              |       hc7e4089_6         668 KB  conda-forge\n",
            "    libuuid-2.32.1             |    h14c3975_1000          26 KB  conda-forge\n",
            "    libwebp-base-1.1.0         |       h516909a_3         845 KB  conda-forge\n",
            "    libxcb-1.13                |    h14c3975_1002         396 KB  conda-forge\n",
            "    libxgboost-1.1.1           |       he1b5a44_0         2.9 MB  conda-forge\n",
            "    libxml2-2.9.9              |       h13577e0_2         1.3 MB  conda-forge\n",
            "    lz4-c-1.9.2                |       he1b5a44_1         226 KB  conda-forge\n",
            "    lzo-2.10                   |    h14c3975_1000         319 KB  conda-forge\n",
            "    markdown-3.2.2             |             py_0          61 KB  conda-forge\n",
            "    markupsafe-1.1.1           |   py37h8f50634_1          26 KB  conda-forge\n",
            "    matplotlib-3.2.1           |                0           6 KB  conda-forge\n",
            "    matplotlib-base-3.2.1      |   py37hef1b27d_0         5.4 MB\n",
            "    mdtraj-1.9.4               |   py37h4112681_0         1.8 MB  conda-forge\n",
            "    mistune-0.8.4              |py37h8f50634_1001          53 KB  conda-forge\n",
            "    mock-4.0.2                 |   py37hc8dfbb8_0          51 KB  conda-forge\n",
            "    nbconvert-5.6.1            |   py37hc8dfbb8_1         487 KB  conda-forge\n",
            "    nbformat-5.0.7             |             py_0          99 KB  conda-forge\n",
            "    networkx-2.4               |             py_1         1.2 MB  conda-forge\n",
            "    notebook-6.0.3             |   py37hc8dfbb8_1         6.2 MB  conda-forge\n",
            "    numexpr-2.7.1              |   py37h0da4684_1         197 KB  conda-forge\n",
            "    numpy-1.18.5               |   py37h8960a57_0         5.1 MB  conda-forge\n",
            "    olefile-0.46               |             py_0          31 KB  conda-forge\n",
            "    openmm-7.4.2               |py37_cuda101_rc_1        11.9 MB  omnia\n",
            "    openssl-1.1.1g             |       h516909a_0         2.1 MB  conda-forge\n",
            "    packaging-20.4             |     pyh9f0ad1d_0          32 KB  conda-forge\n",
            "    pandas-1.0.5               |   py37h0da4684_0        10.1 MB  conda-forge\n",
            "    pandoc-2.10                |                0        18.9 MB  conda-forge\n",
            "    pandocfilters-1.4.2        |             py_1           9 KB  conda-forge\n",
            "    parso-0.7.0                |     pyh9f0ad1d_0          67 KB  conda-forge\n",
            "    pcre-8.44                  |       he1b5a44_0         261 KB  conda-forge\n",
            "    pdbfixer-1.6               |           py37_0         190 KB  omnia\n",
            "    pexpect-4.8.0              |   py37hc8dfbb8_1          79 KB  conda-forge\n",
            "    pickleshare-0.7.5          |py37hc8dfbb8_1001          13 KB  conda-forge\n",
            "    pillow-5.3.0               |py37h00a061d_1000         595 KB  conda-forge\n",
            "    pixman-0.38.0              |    h516909a_1003         594 KB  conda-forge\n",
            "    prometheus_client-0.8.0    |     pyh9f0ad1d_0          44 KB  conda-forge\n",
            "    prompt-toolkit-3.0.5       |             py_1         233 KB  conda-forge\n",
            "    prompt_toolkit-3.0.5       |                1           4 KB  conda-forge\n",
            "    protobuf-3.12.3            |   py37h3340039_0         702 KB  conda-forge\n",
            "    pthread-stubs-0.4          |    h14c3975_1001           5 KB  conda-forge\n",
            "    ptyprocess-0.6.0           |          py_1001          15 KB  conda-forge\n",
            "    py-boost-1.67.0            |   py37h04863e7_4         278 KB\n",
            "    py-xgboost-1.1.1           |   py37hc8dfbb8_0         1.6 MB  conda-forge\n",
            "    pygments-2.6.1             |             py_0         683 KB  conda-forge\n",
            "    pyparsing-2.4.7            |     pyh9f0ad1d_0          60 KB  conda-forge\n",
            "    pyqt-5.9.2                 |   py37hcca6a23_4         5.7 MB  conda-forge\n",
            "    pyrsistent-0.16.0          |   py37h8f50634_0          89 KB  conda-forge\n",
            "    pytables-3.6.1             |   py37h56451d4_2         1.4 MB  conda-forge\n",
            "    python-dateutil-2.8.1      |             py_0         220 KB  conda-forge\n",
            "    python_abi-3.7             |          1_cp37m           4 KB  conda-forge\n",
            "    pytz-2020.1                |     pyh9f0ad1d_0         227 KB  conda-forge\n",
            "    pyzmq-19.0.1               |   py37hac76be4_0         519 KB  conda-forge\n",
            "    qt-5.9.7                   |       h5867ecd_1        68.5 MB\n",
            "    qtconsole-4.7.5            |     pyh9f0ad1d_0          88 KB  conda-forge\n",
            "    qtpy-1.9.0                 |             py_0          34 KB  conda-forge\n",
            "    rdkit-2020.03.3.0          |   py37hc20afe1_1        24.8 MB  rdkit\n",
            "    scikit-learn-0.23.1        |   py37h8a51577_0         6.8 MB  conda-forge\n",
            "    scipy-1.5.0                |   py37ha3d9a3c_0        18.6 MB  conda-forge\n",
            "    send2trash-1.5.0           |             py_0          12 KB  conda-forge\n",
            "    simdna-0.4.2               |             py_0         627 KB  deepchem\n",
            "    sip-4.19.8                 |py37hf484d3e_1000         290 KB  conda-forge\n",
            "    snappy-1.1.8               |       he1b5a44_3          32 KB  conda-forge\n",
            "    tensorboard-1.14.0         |           py37_0         3.2 MB  conda-forge\n",
            "    tensorflow-1.14.0          |gpu_py37h74c33d7_0           4 KB\n",
            "    tensorflow-base-1.14.0     |gpu_py37he45bfe2_0       146.3 MB\n",
            "    tensorflow-estimator-1.14.0|   py37h5ca1d4c_0         645 KB  conda-forge\n",
            "    tensorflow-gpu-1.14.0      |       h0d30ee6_0           3 KB\n",
            "    termcolor-1.1.0            |             py_2           6 KB  conda-forge\n",
            "    terminado-0.8.3            |   py37hc8dfbb8_1          23 KB  conda-forge\n",
            "    testpath-0.4.4             |             py_0          85 KB  conda-forge\n",
            "    threadpoolctl-2.1.0        |     pyh5ca1d4c_0          15 KB  conda-forge\n",
            "    tornado-6.0.4              |   py37h8f50634_1         639 KB  conda-forge\n",
            "    traitlets-4.3.3            |   py37hc8dfbb8_1         133 KB  conda-forge\n",
            "    wcwidth-0.2.5              |     pyh9f0ad1d_0          33 KB  conda-forge\n",
            "    webencodings-0.5.1         |             py_1          12 KB  conda-forge\n",
            "    werkzeug-1.0.1             |     pyh9f0ad1d_0         239 KB  conda-forge\n",
            "    widgetsnbextension-3.5.1   |   py37hc8dfbb8_1         1.8 MB  conda-forge\n",
            "    wrapt-1.12.1               |   py37h8f50634_1          46 KB  conda-forge\n",
            "    xgboost-1.1.1              |   py37h3340039_0          11 KB  conda-forge\n",
            "    xorg-kbproto-1.0.7         |    h14c3975_1002          26 KB  conda-forge\n",
            "    xorg-libice-1.0.10         |       h516909a_0          57 KB  conda-forge\n",
            "    xorg-libsm-1.2.3           |    h84519dc_1000          25 KB  conda-forge\n",
            "    xorg-libx11-1.6.9          |       h516909a_0         918 KB  conda-forge\n",
            "    xorg-libxau-1.0.9          |       h14c3975_0          13 KB  conda-forge\n",
            "    xorg-libxdmcp-1.1.3        |       h516909a_0          18 KB  conda-forge\n",
            "    xorg-libxext-1.3.4         |       h516909a_0          51 KB  conda-forge\n",
            "    xorg-libxrender-0.9.10     |    h516909a_1002          31 KB  conda-forge\n",
            "    xorg-renderproto-0.11.1    |    h14c3975_1002           8 KB  conda-forge\n",
            "    xorg-xextproto-7.3.0       |    h14c3975_1002          27 KB  conda-forge\n",
            "    xorg-xproto-7.0.31         |    h14c3975_1007          72 KB  conda-forge\n",
            "    zeromq-4.3.2               |       he1b5a44_2         668 KB  conda-forge\n",
            "    zipp-3.1.0                 |             py_0          10 KB  conda-forge\n",
            "    zstd-1.4.4                 |       h6597ccf_3         991 KB  conda-forge\n",
            "    ------------------------------------------------------------\n",
            "                                           Total:       974.3 MB\n",
            "\n",
            "The following NEW packages will be INSTALLED:\n",
            "\n",
            "  _py-xgboost-mutex  conda-forge/linux-64::_py-xgboost-mutex-2.0-cpu_0\n",
            "  _tflow_select      pkgs/main/linux-64::_tflow_select-2.1.0-gpu\n",
            "  absl-py            conda-forge/linux-64::absl-py-0.9.0-py37hc8dfbb8_1\n",
            "  astor              conda-forge/noarch::astor-0.8.1-pyh9f0ad1d_0\n",
            "  attrs              conda-forge/noarch::attrs-19.3.0-py_0\n",
            "  backcall           conda-forge/noarch::backcall-0.2.0-pyh9f0ad1d_0\n",
            "  bleach             conda-forge/noarch::bleach-3.1.5-pyh9f0ad1d_0\n",
            "  blosc              conda-forge/linux-64::blosc-1.19.0-he1b5a44_0\n",
            "  bzip2              conda-forge/linux-64::bzip2-1.0.8-h516909a_2\n",
            "  c-ares             conda-forge/linux-64::c-ares-1.15.0-h516909a_1001\n",
            "  cairo              conda-forge/linux-64::cairo-1.16.0-h18b612c_1001\n",
            "  cudatoolkit        pkgs/main/linux-64::cudatoolkit-10.1.243-h6bb024c_0\n",
            "  cudnn              pkgs/main/linux-64::cudnn-7.6.5-cuda10.1_0\n",
            "  cupti              pkgs/main/linux-64::cupti-10.1.168-0\n",
            "  cycler             conda-forge/noarch::cycler-0.10.0-py_2\n",
            "  cython             conda-forge/linux-64::cython-0.29.20-py37h3340039_0\n",
            "  dbus               conda-forge/linux-64::dbus-1.13.6-he372182_0\n",
            "  decorator          conda-forge/noarch::decorator-4.4.2-py_0\n",
            "  deepchem-gpu       deepchem/linux-64::deepchem-gpu-2.3.0-py37_0\n",
            "  defusedxml         conda-forge/noarch::defusedxml-0.6.0-py_0\n",
            "  entrypoints        conda-forge/linux-64::entrypoints-0.3-py37hc8dfbb8_1001\n",
            "  expat              conda-forge/linux-64::expat-2.2.9-he1b5a44_2\n",
            "  fftw3f             omnia/linux-64::fftw3f-3.3.4-2\n",
            "  fontconfig         conda-forge/linux-64::fontconfig-2.13.1-he4413a7_1000\n",
            "  freetype           conda-forge/linux-64::freetype-2.10.2-he06d7ca_0\n",
            "  gast               conda-forge/noarch::gast-0.3.3-py_0\n",
            "  glib               pkgs/main/linux-64::glib-2.65.0-h3eb4bd4_0\n",
            "  google-pasta       conda-forge/noarch::google-pasta-0.2.0-pyh8c360ce_0\n",
            "  grpcio             conda-forge/linux-64::grpcio-1.27.2-py37hb0870dc_0\n",
            "  gst-plugins-base   pkgs/main/linux-64::gst-plugins-base-1.14.0-hbbd80ab_1\n",
            "  gstreamer          pkgs/main/linux-64::gstreamer-1.14.0-hb31296c_0\n",
            "  h5py               conda-forge/linux-64::h5py-2.10.0-nompi_py37h90cd8ad_103\n",
            "  hdf5               conda-forge/linux-64::hdf5-1.10.6-nompi_h3c11f04_100\n",
            "  icu                conda-forge/linux-64::icu-58.2-hf484d3e_1000\n",
            "  importlib-metadata conda-forge/linux-64::importlib-metadata-1.7.0-py37hc8dfbb8_0\n",
            "  importlib_metadata conda-forge/noarch::importlib_metadata-1.7.0-0\n",
            "  ipykernel          conda-forge/linux-64::ipykernel-5.3.1-py37h43977f1_0\n",
            "  ipython            conda-forge/linux-64::ipython-7.16.1-py37h43977f1_0\n",
            "  ipython_genutils   conda-forge/noarch::ipython_genutils-0.2.0-py_1\n",
            "  ipywidgets         conda-forge/noarch::ipywidgets-7.5.1-py_0\n",
            "  jedi               conda-forge/linux-64::jedi-0.17.1-py37hc8dfbb8_0\n",
            "  jinja2             conda-forge/noarch::jinja2-2.11.2-pyh9f0ad1d_0\n",
            "  joblib             conda-forge/noarch::joblib-0.16.0-py_0\n",
            "  jpeg               conda-forge/linux-64::jpeg-9d-h516909a_0\n",
            "  jsonschema         conda-forge/linux-64::jsonschema-3.2.0-py37hc8dfbb8_1\n",
            "  jupyter            conda-forge/noarch::jupyter-1.0.0-py_2\n",
            "  jupyter_client     conda-forge/noarch::jupyter_client-6.1.5-py_0\n",
            "  jupyter_console    conda-forge/noarch::jupyter_console-6.1.0-py_1\n",
            "  jupyter_core       conda-forge/linux-64::jupyter_core-4.6.3-py37hc8dfbb8_1\n",
            "  keras-applications conda-forge/noarch::keras-applications-1.0.8-py_1\n",
            "  keras-preprocessi~ conda-forge/noarch::keras-preprocessing-1.1.0-py_0\n",
            "  kiwisolver         conda-forge/linux-64::kiwisolver-1.2.0-py37h99015e2_0\n",
            "  libblas            conda-forge/linux-64::libblas-3.8.0-14_openblas\n",
            "  libboost           pkgs/main/linux-64::libboost-1.67.0-h46d08c1_4\n",
            "  libcblas           conda-forge/linux-64::libcblas-3.8.0-14_openblas\n",
            "  libgfortran-ng     conda-forge/linux-64::libgfortran-ng-7.5.0-hdf63c60_6\n",
            "  libiconv           conda-forge/linux-64::libiconv-1.15-h516909a_1006\n",
            "  liblapack          conda-forge/linux-64::liblapack-3.8.0-14_openblas\n",
            "  libopenblas        conda-forge/linux-64::libopenblas-0.3.7-h5ec1e0e_6\n",
            "  libpng             conda-forge/linux-64::libpng-1.6.37-hed695b0_1\n",
            "  libprotobuf        conda-forge/linux-64::libprotobuf-3.12.3-h8b12597_0\n",
            "  libsodium          conda-forge/linux-64::libsodium-1.0.17-h516909a_0\n",
            "  libtiff            conda-forge/linux-64::libtiff-4.1.0-hc7e4089_6\n",
            "  libuuid            conda-forge/linux-64::libuuid-2.32.1-h14c3975_1000\n",
            "  libwebp-base       conda-forge/linux-64::libwebp-base-1.1.0-h516909a_3\n",
            "  libxcb             conda-forge/linux-64::libxcb-1.13-h14c3975_1002\n",
            "  libxgboost         conda-forge/linux-64::libxgboost-1.1.1-he1b5a44_0\n",
            "  libxml2            conda-forge/linux-64::libxml2-2.9.9-h13577e0_2\n",
            "  lz4-c              conda-forge/linux-64::lz4-c-1.9.2-he1b5a44_1\n",
            "  lzo                conda-forge/linux-64::lzo-2.10-h14c3975_1000\n",
            "  markdown           conda-forge/noarch::markdown-3.2.2-py_0\n",
            "  markupsafe         conda-forge/linux-64::markupsafe-1.1.1-py37h8f50634_1\n",
            "  matplotlib         conda-forge/linux-64::matplotlib-3.2.1-0\n",
            "  matplotlib-base    pkgs/main/linux-64::matplotlib-base-3.2.1-py37hef1b27d_0\n",
            "  mdtraj             conda-forge/linux-64::mdtraj-1.9.4-py37h4112681_0\n",
            "  mistune            conda-forge/linux-64::mistune-0.8.4-py37h8f50634_1001\n",
            "  mock               conda-forge/linux-64::mock-4.0.2-py37hc8dfbb8_0\n",
            "  nbconvert          conda-forge/linux-64::nbconvert-5.6.1-py37hc8dfbb8_1\n",
            "  nbformat           conda-forge/noarch::nbformat-5.0.7-py_0\n",
            "  networkx           conda-forge/noarch::networkx-2.4-py_1\n",
            "  notebook           conda-forge/linux-64::notebook-6.0.3-py37hc8dfbb8_1\n",
            "  numexpr            conda-forge/linux-64::numexpr-2.7.1-py37h0da4684_1\n",
            "  numpy              conda-forge/linux-64::numpy-1.18.5-py37h8960a57_0\n",
            "  olefile            conda-forge/noarch::olefile-0.46-py_0\n",
            "  openmm             omnia/linux-64::openmm-7.4.2-py37_cuda101_rc_1\n",
            "  packaging          conda-forge/noarch::packaging-20.4-pyh9f0ad1d_0\n",
            "  pandas             conda-forge/linux-64::pandas-1.0.5-py37h0da4684_0\n",
            "  pandoc             conda-forge/linux-64::pandoc-2.10-0\n",
            "  pandocfilters      conda-forge/noarch::pandocfilters-1.4.2-py_1\n",
            "  parso              conda-forge/noarch::parso-0.7.0-pyh9f0ad1d_0\n",
            "  pcre               conda-forge/linux-64::pcre-8.44-he1b5a44_0\n",
            "  pdbfixer           omnia/linux-64::pdbfixer-1.6-py37_0\n",
            "  pexpect            conda-forge/linux-64::pexpect-4.8.0-py37hc8dfbb8_1\n",
            "  pickleshare        conda-forge/linux-64::pickleshare-0.7.5-py37hc8dfbb8_1001\n",
            "  pillow             conda-forge/linux-64::pillow-5.3.0-py37h00a061d_1000\n",
            "  pixman             conda-forge/linux-64::pixman-0.38.0-h516909a_1003\n",
            "  prometheus_client  conda-forge/noarch::prometheus_client-0.8.0-pyh9f0ad1d_0\n",
            "  prompt-toolkit     conda-forge/noarch::prompt-toolkit-3.0.5-py_1\n",
            "  prompt_toolkit     conda-forge/noarch::prompt_toolkit-3.0.5-1\n",
            "  protobuf           conda-forge/linux-64::protobuf-3.12.3-py37h3340039_0\n",
            "  pthread-stubs      conda-forge/linux-64::pthread-stubs-0.4-h14c3975_1001\n",
            "  ptyprocess         conda-forge/noarch::ptyprocess-0.6.0-py_1001\n",
            "  py-boost           pkgs/main/linux-64::py-boost-1.67.0-py37h04863e7_4\n",
            "  py-xgboost         conda-forge/linux-64::py-xgboost-1.1.1-py37hc8dfbb8_0\n",
            "  pygments           conda-forge/noarch::pygments-2.6.1-py_0\n",
            "  pyparsing          conda-forge/noarch::pyparsing-2.4.7-pyh9f0ad1d_0\n",
            "  pyqt               conda-forge/linux-64::pyqt-5.9.2-py37hcca6a23_4\n",
            "  pyrsistent         conda-forge/linux-64::pyrsistent-0.16.0-py37h8f50634_0\n",
            "  pytables           conda-forge/linux-64::pytables-3.6.1-py37h56451d4_2\n",
            "  python-dateutil    conda-forge/noarch::python-dateutil-2.8.1-py_0\n",
            "  python_abi         conda-forge/linux-64::python_abi-3.7-1_cp37m\n",
            "  pytz               conda-forge/noarch::pytz-2020.1-pyh9f0ad1d_0\n",
            "  pyzmq              conda-forge/linux-64::pyzmq-19.0.1-py37hac76be4_0\n",
            "  qt                 pkgs/main/linux-64::qt-5.9.7-h5867ecd_1\n",
            "  qtconsole          conda-forge/noarch::qtconsole-4.7.5-pyh9f0ad1d_0\n",
            "  qtpy               conda-forge/noarch::qtpy-1.9.0-py_0\n",
            "  rdkit              rdkit/linux-64::rdkit-2020.03.3.0-py37hc20afe1_1\n",
            "  scikit-learn       conda-forge/linux-64::scikit-learn-0.23.1-py37h8a51577_0\n",
            "  scipy              conda-forge/linux-64::scipy-1.5.0-py37ha3d9a3c_0\n",
            "  send2trash         conda-forge/noarch::send2trash-1.5.0-py_0\n",
            "  simdna             deepchem/noarch::simdna-0.4.2-py_0\n",
            "  sip                conda-forge/linux-64::sip-4.19.8-py37hf484d3e_1000\n",
            "  snappy             conda-forge/linux-64::snappy-1.1.8-he1b5a44_3\n",
            "  tensorboard        conda-forge/linux-64::tensorboard-1.14.0-py37_0\n",
            "  tensorflow         pkgs/main/linux-64::tensorflow-1.14.0-gpu_py37h74c33d7_0\n",
            "  tensorflow-base    pkgs/main/linux-64::tensorflow-base-1.14.0-gpu_py37he45bfe2_0\n",
            "  tensorflow-estima~ conda-forge/linux-64::tensorflow-estimator-1.14.0-py37h5ca1d4c_0\n",
            "  tensorflow-gpu     pkgs/main/linux-64::tensorflow-gpu-1.14.0-h0d30ee6_0\n",
            "  termcolor          conda-forge/noarch::termcolor-1.1.0-py_2\n",
            "  terminado          conda-forge/linux-64::terminado-0.8.3-py37hc8dfbb8_1\n",
            "  testpath           conda-forge/noarch::testpath-0.4.4-py_0\n",
            "  threadpoolctl      conda-forge/noarch::threadpoolctl-2.1.0-pyh5ca1d4c_0\n",
            "  tornado            conda-forge/linux-64::tornado-6.0.4-py37h8f50634_1\n",
            "  traitlets          conda-forge/linux-64::traitlets-4.3.3-py37hc8dfbb8_1\n",
            "  wcwidth            conda-forge/noarch::wcwidth-0.2.5-pyh9f0ad1d_0\n",
            "  webencodings       conda-forge/noarch::webencodings-0.5.1-py_1\n",
            "  werkzeug           conda-forge/noarch::werkzeug-1.0.1-pyh9f0ad1d_0\n",
            "  widgetsnbextension conda-forge/linux-64::widgetsnbextension-3.5.1-py37hc8dfbb8_1\n",
            "  wrapt              conda-forge/linux-64::wrapt-1.12.1-py37h8f50634_1\n",
            "  xgboost            conda-forge/linux-64::xgboost-1.1.1-py37h3340039_0\n",
            "  xorg-kbproto       conda-forge/linux-64::xorg-kbproto-1.0.7-h14c3975_1002\n",
            "  xorg-libice        conda-forge/linux-64::xorg-libice-1.0.10-h516909a_0\n",
            "  xorg-libsm         conda-forge/linux-64::xorg-libsm-1.2.3-h84519dc_1000\n",
            "  xorg-libx11        conda-forge/linux-64::xorg-libx11-1.6.9-h516909a_0\n",
            "  xorg-libxau        conda-forge/linux-64::xorg-libxau-1.0.9-h14c3975_0\n",
            "  xorg-libxdmcp      conda-forge/linux-64::xorg-libxdmcp-1.1.3-h516909a_0\n",
            "  xorg-libxext       conda-forge/linux-64::xorg-libxext-1.3.4-h516909a_0\n",
            "  xorg-libxrender    conda-forge/linux-64::xorg-libxrender-0.9.10-h516909a_1002\n",
            "  xorg-renderproto   conda-forge/linux-64::xorg-renderproto-0.11.1-h14c3975_1002\n",
            "  xorg-xextproto     conda-forge/linux-64::xorg-xextproto-7.3.0-h14c3975_1002\n",
            "  xorg-xproto        conda-forge/linux-64::xorg-xproto-7.0.31-h14c3975_1007\n",
            "  zeromq             conda-forge/linux-64::zeromq-4.3.2-he1b5a44_2\n",
            "  zipp               conda-forge/noarch::zipp-3.1.0-py_0\n",
            "  zstd               conda-forge/linux-64::zstd-1.4.4-h6597ccf_3\n",
            "\n",
            "The following packages will be UPDATED:\n",
            "\n",
            "  ca-certificates     pkgs/main::ca-certificates-2020.1.1-0 --> conda-forge::ca-certificates-2020.6.20-hecda079_0\n",
            "  certifi              pkgs/main::certifi-2020.4.5.1-py37_0 --> conda-forge::certifi-2020.6.20-py37hc8dfbb8_0\n",
            "  conda                       pkgs/main::conda-4.8.3-py37_0 --> conda-forge::conda-4.8.3-py37hc8dfbb8_1\n",
            "\n",
            "The following packages will be SUPERSEDED by a higher-priority channel:\n",
            "\n",
            "  openssl              pkgs/main::openssl-1.1.1g-h7b6447c_0 --> conda-forge::openssl-1.1.1g-h516909a_0\n",
            "\n",
            "\n",
            "\n",
            "Downloading and Extracting Packages\n",
            "parso-0.7.0          | 67 KB     | : 100% 1.0/1 [00:00<00:00,  7.33it/s]                \n",
            "xorg-libice-1.0.10   | 57 KB     | : 100% 1.0/1 [00:00<00:00, 19.78it/s]\n",
            "wrapt-1.12.1         | 46 KB     | : 100% 1.0/1 [00:00<00:00, 21.60it/s]\n",
            "pthread-stubs-0.4    | 5 KB      | : 100% 1.0/1 [00:00<00:00, 28.86it/s]\n",
            "jedi-0.17.1          | 933 KB    | : 100% 1.0/1 [00:00<00:00,  1.81it/s]\n",
            "xorg-libsm-1.2.3     | 25 KB     | : 100% 1.0/1 [00:00<00:00, 28.26it/s]\n",
            "pickleshare-0.7.5    | 13 KB     | : 100% 1.0/1 [00:00<00:00, 25.74it/s]\n",
            "matplotlib-base-3.2. | 5.4 MB    | : 100% 1.0/1 [00:00<00:00,  3.68s/it]                 \n",
            "gstreamer-1.14.0     | 3.1 MB    | : 100% 1.0/1 [00:00<00:00,  5.79it/s]\n",
            "freetype-2.10.2      | 905 KB    | : 100% 1.0/1 [00:00<00:00,  4.36it/s]\n",
            "pexpect-4.8.0        | 79 KB     | : 100% 1.0/1 [00:00<00:00, 19.95it/s]\n",
            "keras-applications-1 | 30 KB     | : 100% 1.0/1 [00:00<00:00, 20.20it/s]\n",
            "cycler-0.10.0        | 9 KB      | : 100% 1.0/1 [00:00<00:00, 27.37it/s]\n",
            "libpng-1.6.37        | 308 KB    | : 100% 1.0/1 [00:00<00:00,  9.51it/s]\n",
            "certifi-2020.6.20    | 151 KB    | : 100% 1.0/1 [00:00<00:00, 17.84it/s]\n",
            "libiconv-1.15        | 2.0 MB    | : 100% 1.0/1 [00:00<00:00,  3.27it/s]\n",
            "entrypoints-0.3      | 12 KB     | : 100% 1.0/1 [00:00<00:00, 25.68it/s]\n",
            "bzip2-1.0.8          | 396 KB    | : 100% 1.0/1 [00:00<00:00,  8.45it/s]\n",
            "pandocfilters-1.4.2  | 9 KB      | : 100% 1.0/1 [00:00<00:00, 27.07it/s]\n",
            "threadpoolctl-2.1.0  | 15 KB     | : 100% 1.0/1 [00:00<00:00, 29.25it/s]\n",
            "nbconvert-5.6.1      | 487 KB    | : 100% 1.0/1 [00:00<00:00,  6.25it/s]\n",
            "prompt-toolkit-3.0.5 | 233 KB    | : 100% 1.0/1 [00:00<00:00,  8.40it/s]\n",
            "libsodium-1.0.17     | 330 KB    | : 100% 1.0/1 [00:00<00:00,  9.59it/s]\n",
            "networkx-2.4         | 1.2 MB    | : 100% 1.0/1 [00:00<00:00,  2.67it/s]\n",
            "pandas-1.0.5         | 10.1 MB   | : 100% 1.0/1 [00:02<00:00,  2.91s/it]               \n",
            "webencodings-0.5.1   | 12 KB     | : 100% 1.0/1 [00:00<00:00, 17.78it/s]\n",
            "lzo-2.10             | 319 KB    | : 100% 1.0/1 [00:00<00:00,  8.69it/s]\n",
            "libuuid-2.32.1       | 26 KB     | : 100% 1.0/1 [00:00<00:00, 24.18it/s]\n",
            "traitlets-4.3.3      | 133 KB    | : 100% 1.0/1 [00:00<00:00, 11.38it/s]\n",
            "matplotlib-3.2.1     | 6 KB      | : 100% 1.0/1 [00:00<00:00, 19.96it/s]\n",
            "jpeg-9d              | 266 KB    | : 100% 1.0/1 [00:00<00:00, 10.62it/s]\n",
            "qtconsole-4.7.5      | 88 KB     | : 100% 1.0/1 [00:00<00:00, 17.33it/s]\n",
            "xorg-xextproto-7.3.0 | 27 KB     | : 100% 1.0/1 [00:00<00:00, 24.09it/s]\n",
            "glib-2.65.0          | 2.9 MB    | : 100% 1.0/1 [00:00<00:00,  4.55it/s]\n",
            "hdf5-1.10.6          | 3.0 MB    | : 100% 1.0/1 [00:00<00:00,  1.65it/s]\n",
            "importlib-metadata-1 | 44 KB     | : 100% 1.0/1 [00:00<00:00, 22.43it/s]\n",
            "pdbfixer-1.6         | 190 KB    | : 100% 1.0/1 [00:00<00:00,  5.31it/s]\n",
            "jupyter_core-4.6.3   | 71 KB     | : 100% 1.0/1 [00:00<00:00, 16.78it/s]\n",
            "markdown-3.2.2       | 61 KB     | : 100% 1.0/1 [00:00<00:00, 18.63it/s]\n",
            "importlib_metadata-1 | 3 KB      | : 100% 1.0/1 [00:00<00:00, 24.59it/s]\n",
            "tensorflow-estimator | 645 KB    | : 100% 1.0/1 [00:00<00:00,  3.26it/s]\n",
            "notebook-6.0.3       | 6.2 MB    | : 100% 1.0/1 [00:01<00:00,  1.79s/it]\n",
            "liblapack-3.8.0      | 10 KB     | : 100% 1.0/1 [00:00<00:00, 25.89it/s]\n",
            "termcolor-1.1.0      | 6 KB      | : 100% 1.0/1 [00:00<00:00, 30.16it/s]\n",
            "mdtraj-1.9.4         | 1.8 MB    | : 100% 1.0/1 [00:00<00:00,  2.05it/s]\n",
            "blosc-1.19.0         | 887 KB    | : 100% 1.0/1 [00:00<00:00,  5.22it/s]\n",
            "ipykernel-5.3.1      | 165 KB    | : 100% 1.0/1 [00:00<00:00, 11.51it/s]\n",
            "_tflow_select-2.1.0  | 2 KB      | : 100% 1.0/1 [00:00<00:00, 10.50it/s]\n",
            "pcre-8.44            | 261 KB    | : 100% 1.0/1 [00:00<00:00, 10.04it/s]\n",
            "jupyter_client-6.1.5 | 75 KB     | : 100% 1.0/1 [00:00<00:00, 18.34it/s]\n",
            "prompt_toolkit-3.0.5 | 4 KB      | : 100% 1.0/1 [00:00<00:00, 30.58it/s]\n",
            "icu-58.2             | 22.6 MB   | : 100% 1.0/1 [00:04<00:00,  4.21s/it]              \n",
            "xorg-libxext-1.3.4   | 51 KB     | : 100% 1.0/1 [00:00<00:00, 23.68it/s]\n",
            "jinja2-2.11.2        | 93 KB     | : 100% 1.0/1 [00:00<00:00, 17.00it/s]\n",
            "send2trash-1.5.0     | 12 KB     | : 100% 1.0/1 [00:00<00:00, 30.17it/s]\n",
            "werkzeug-1.0.1       | 239 KB    | : 100% 1.0/1 [00:00<00:00, 11.09it/s]\n",
            "ipython_genutils-0.2 | 21 KB     | : 100% 1.0/1 [00:00<00:00, 26.99it/s]\n",
            "conda-4.8.3          | 3.0 MB    | : 100% 1.0/1 [00:00<00:00,  1.21it/s]\n",
            "h5py-2.10.0          | 1.1 MB    | : 100% 1.0/1 [00:00<00:00,  3.33it/s]\n",
            "pygments-2.6.1       | 683 KB    | : 100% 1.0/1 [00:00<00:00,  3.97it/s]\n",
            "py-xgboost-1.1.1     | 1.6 MB    | : 100% 1.0/1 [00:00<00:00,  2.73it/s]\n",
            "wcwidth-0.2.5        | 33 KB     | : 100% 1.0/1 [00:00<00:00, 19.34it/s]\n",
            "lz4-c-1.9.2          | 226 KB    | : 100% 1.0/1 [00:00<00:00,  9.18it/s]\n",
            "qt-5.9.7             | 68.5 MB   | : 100% 1.0/1 [00:03<00:00,  6.28s/it]              \n",
            "deepchem-gpu-2.3.0   | 2.1 MB    | : 100% 1.0/1 [00:00<00:00,  1.47it/s]\n",
            "libxml2-2.9.9        | 1.3 MB    | : 100% 1.0/1 [00:00<00:00,  2.12it/s]\n",
            "fontconfig-2.13.1    | 327 KB    | : 100% 1.0/1 [00:00<00:00,  7.95it/s]\n",
            "python-dateutil-2.8. | 220 KB    | : 100% 1.0/1 [00:00<00:00, 15.12it/s]\n",
            "xorg-libxrender-0.9. | 31 KB     | : 100% 1.0/1 [00:00<00:00, 20.35it/s]\n",
            "simdna-0.4.2         | 627 KB    | : 100% 1.0/1 [00:00<00:00,  3.12it/s]\n",
            "xorg-libxau-1.0.9    | 13 KB     | : 100% 1.0/1 [00:00<00:00, 29.32it/s]\n",
            "libtiff-4.1.0        | 668 KB    | : 100% 1.0/1 [00:00<00:00,  6.06it/s]\n",
            "grpcio-1.27.2        | 1.3 MB    | : 100% 1.0/1 [00:00<00:00,  3.18it/s]\n",
            "backcall-0.2.0       | 13 KB     | : 100% 1.0/1 [00:00<00:00, 30.46it/s]\n",
            "expat-2.2.9          | 191 KB    | : 100% 1.0/1 [00:00<00:00, 14.23it/s]\n",
            "qtpy-1.9.0           | 34 KB     | : 100% 1.0/1 [00:00<00:00, 19.04it/s]\n",
            "tensorflow-gpu-1.14. | 3 KB      | : 100% 1.0/1 [00:00<00:00, 10.72it/s]\n",
            "pixman-0.38.0        | 594 KB    | : 100% 1.0/1 [00:00<00:00,  6.55it/s]\n",
            "prometheus_client-0. | 44 KB     | : 100% 1.0/1 [00:00<00:00, 16.13it/s]\n",
            "py-boost-1.67.0      | 278 KB    | : 100% 1.0/1 [00:00<00:00,  8.25it/s]\n",
            "pytables-3.6.1       | 1.4 MB    | : 100% 1.0/1 [00:00<00:00,  2.22it/s]\n",
            "libcblas-3.8.0       | 10 KB     | : 100% 1.0/1 [00:00<00:00, 24.13it/s]\n",
            "ipywidgets-7.5.1     | 101 KB    | : 100% 1.0/1 [00:00<00:00, 17.55it/s]\n",
            "absl-py-0.9.0        | 162 KB    | : 100% 1.0/1 [00:00<00:00, 11.18it/s]\n",
            "ca-certificates-2020 | 145 KB    | : 100% 1.0/1 [00:00<00:00, 15.54it/s]\n",
            "python_abi-3.7       | 4 KB      | : 100% 1.0/1 [00:00<00:00, 27.38it/s]\n",
            "ptyprocess-0.6.0     | 15 KB     | : 100% 1.0/1 [00:00<00:00, 29.31it/s]\n",
            "nbformat-5.0.7       | 99 KB     | : 100% 1.0/1 [00:00<00:00, 16.03it/s]\n",
            "xgboost-1.1.1        | 11 KB     | : 100% 1.0/1 [00:00<00:00, 27.50it/s]\n",
            "scikit-learn-0.23.1  | 6.8 MB    | : 100% 1.0/1 [00:01<00:00,  1.93s/it]\n",
            "xorg-libx11-1.6.9    | 918 KB    | : 100% 1.0/1 [00:00<00:00,  4.78it/s]\n",
            "gst-plugins-base-1.1 | 4.8 MB    | : 100% 1.0/1 [00:00<00:00,  3.66it/s]\n",
            "cudnn-7.6.5          | 179.9 MB  | : 100% 1.0/1 [00:04<00:00,  4.83s/it]               \n",
            "xorg-kbproto-1.0.7   | 26 KB     | : 100% 1.0/1 [00:00<00:00, 24.07it/s]\n",
            "libxgboost-1.1.1     | 2.9 MB    | : 100% 1.0/1 [00:00<00:00,  1.65it/s]\n",
            "mock-4.0.2           | 51 KB     | : 100% 1.0/1 [00:00<00:00, 17.39it/s]\n",
            "jupyter_console-6.1. | 21 KB     | : 100% 1.0/1 [00:00<00:00, 27.63it/s]\n",
            "jsonschema-3.2.0     | 89 KB     | : 100% 1.0/1 [00:00<00:00, 17.19it/s]\n",
            "cython-0.29.20       | 2.1 MB    | : 100% 1.0/1 [00:00<00:00,  1.68it/s]\n",
            "openmm-7.4.2         | 11.9 MB   | : 100% 1.0/1 [00:03<00:00,  3.24s/it]\n",
            "sip-4.19.8           | 290 KB    | : 100% 1.0/1 [00:00<00:00, 10.69it/s]\n",
            "pytz-2020.1          | 227 KB    | : 100% 1.0/1 [00:00<00:00,  6.95it/s]\n",
            "libblas-3.8.0        | 10 KB     | : 100% 1.0/1 [00:00<00:00, 28.73it/s]\n",
            "snappy-1.1.8         | 32 KB     | : 100% 1.0/1 [00:00<00:00, 26.89it/s]\n",
            "rdkit-2020.03.3.0    | 24.8 MB   | : 100% 1.0/1 [00:04<00:00,  4.99s/it]\n",
            "cairo-1.16.0         | 1.5 MB    | : 100% 1.0/1 [00:00<00:00,  2.52it/s]\n",
            "pyzmq-19.0.1         | 519 KB    | : 100% 1.0/1 [00:00<00:00,  5.63it/s]\n",
            "joblib-0.16.0        | 203 KB    | : 100% 1.0/1 [00:00<00:00,  9.64it/s]\n",
            "pillow-5.3.0         | 595 KB    | : 100% 1.0/1 [00:00<00:00,  5.46it/s]\n",
            "libopenblas-0.3.7    | 7.6 MB    | : 100% 1.0/1 [00:01<00:00,  1.72s/it]\n",
            "tensorboard-1.14.0   | 3.2 MB    | : 100% 1.0/1 [00:00<00:00,  1.59it/s]\n",
            "numpy-1.18.5         | 5.1 MB    | : 100% 1.0/1 [00:01<00:00,  1.44s/it]\n",
            "xorg-renderproto-0.1 | 8 KB      | : 100% 1.0/1 [00:00<00:00, 23.48it/s]\n",
            "libprotobuf-3.12.3   | 4.9 MB    | : 100% 1.0/1 [00:01<00:00,  1.32s/it]\n",
            "pandoc-2.10          | 18.9 MB   | : 100% 1.0/1 [00:05<00:00,  5.64s/it]               \n",
            "attrs-19.3.0         | 35 KB     | : 100% 1.0/1 [00:00<00:00, 22.88it/s]\n",
            "zipp-3.1.0           | 10 KB     | : 100% 1.0/1 [00:00<00:00, 31.48it/s]\n",
            "dbus-1.13.6          | 602 KB    | : 100% 1.0/1 [00:00<00:00,  5.49it/s]\n",
            "kiwisolver-1.2.0     | 87 KB     | : 100% 1.0/1 [00:00<00:00, 22.36it/s]\n",
            "mistune-0.8.4        | 53 KB     | : 100% 1.0/1 [00:00<00:00, 20.57it/s]\n",
            "zstd-1.4.4           | 991 KB    | : 100% 1.0/1 [00:00<00:00,  3.76it/s]\n",
            "zeromq-4.3.2         | 668 KB    | : 100% 1.0/1 [00:00<00:00,  4.22it/s]\n",
            "decorator-4.4.2      | 11 KB     | : 100% 1.0/1 [00:00<00:00, 30.68it/s]\n",
            "widgetsnbextension-3 | 1.8 MB    | : 100% 1.0/1 [00:00<00:00,  1.86it/s]\n",
            "protobuf-3.12.3      | 702 KB    | : 100% 1.0/1 [00:00<00:00,  3.29it/s]\n",
            "pyrsistent-0.16.0    | 89 KB     | : 100% 1.0/1 [00:00<00:00, 15.57it/s]\n",
            "tensorflow-base-1.14 | 146.3 MB  | : 100% 1.0/1 [00:09<00:00,  9.21s/it]               \n",
            "google-pasta-0.2.0   | 42 KB     | : 100% 1.0/1 [00:00<00:00, 12.05it/s]\n",
            "astor-0.8.1          | 25 KB     | : 100% 1.0/1 [00:00<00:00,  9.64it/s]\n",
            "c-ares-1.15.0        | 100 KB    | : 100% 1.0/1 [00:00<00:00,  5.82it/s]\n",
            "pyparsing-2.4.7      | 60 KB     | : 100% 1.0/1 [00:00<00:00, 21.53it/s]\n",
            "libxcb-1.13          | 396 KB    | : 100% 1.0/1 [00:00<00:00,  5.73it/s]\n",
            "ipython-7.16.1       | 1.1 MB    | : 100% 1.0/1 [00:04<00:00,  4.13s/it]\n",
            "xorg-xproto-7.0.31   | 72 KB     | : 100% 1.0/1 [00:00<00:00, 20.48it/s]\n",
            "tensorflow-1.14.0    | 4 KB      | : 100% 1.0/1 [00:00<00:00,  9.68it/s]\n",
            "markupsafe-1.1.1     | 26 KB     | : 100% 1.0/1 [00:00<00:00, 26.28it/s]\n",
            "bleach-3.1.5         | 112 KB    | : 100% 1.0/1 [00:00<00:00, 14.61it/s]\n",
            "gast-0.3.3           | 12 KB     | : 100% 1.0/1 [00:00<00:00, 24.70it/s]\n",
            "defusedxml-0.6.0     | 22 KB     | : 100% 1.0/1 [00:00<00:00, 25.88it/s]\n",
            "openssl-1.1.1g       | 2.1 MB    | : 100% 1.0/1 [00:00<00:00,  2.31it/s]\n",
            "_py-xgboost-mutex-2. | 8 KB      | : 100% 1.0/1 [00:00<00:00, 24.96it/s]\n",
            "tornado-6.0.4        | 639 KB    | : 100% 1.0/1 [00:00<00:00,  3.77it/s]\n",
            "cupti-10.1.168       | 1.4 MB    | : 100% 1.0/1 [00:00<00:00,  8.36it/s]\n",
            "cudatoolkit-10.1.243 | 347.4 MB  | : 100% 1.0/1 [00:23<00:00, 23.88s/it]               \n",
            "keras-preprocessing- | 33 KB     | : 100% 1.0/1 [00:00<00:00, 13.95it/s]\n",
            "libwebp-base-1.1.0   | 845 KB    | : 100% 1.0/1 [00:00<00:00,  4.29it/s]\n",
            "xorg-libxdmcp-1.1.3  | 18 KB     | : 100% 1.0/1 [00:00<00:00, 22.40it/s]\n",
            "libboost-1.67.0      | 13.0 MB   | : 100% 1.0/1 [00:04<00:00,  2.91s/it]               \n",
            "numexpr-2.7.1        | 197 KB    | : 100% 1.0/1 [00:00<00:00, 13.41it/s]\n",
            "packaging-20.4       | 32 KB     | : 100% 1.0/1 [00:00<00:00, 24.76it/s]\n",
            "libgfortran-ng-7.5.0 | 1.7 MB    | : 100% 1.0/1 [00:00<00:00,  2.45it/s]\n",
            "jupyter-1.0.0        | 4 KB      | : 100% 1.0/1 [00:00<00:00, 26.13it/s]\n",
            "olefile-0.46         | 31 KB     | : 100% 1.0/1 [00:00<00:00, 26.91it/s]\n",
            "pyqt-5.9.2           | 5.7 MB    | : 100% 1.0/1 [00:01<00:00,  1.63s/it]\n",
            "scipy-1.5.0          | 18.6 MB   | : 100% 1.0/1 [00:04<00:00,  2.32s/it]               \n",
            "fftw3f-3.3.4         | 1.2 MB    | : 100% 1.0/1 [00:00<00:00,  1.88it/s]\n",
            "testpath-0.4.4       | 85 KB     | : 100% 1.0/1 [00:00<00:00, 21.81it/s]\n",
            "terminado-0.8.3      | 23 KB     | : 100% 1.0/1 [00:00<00:00, 28.07it/s]\n",
            "Preparing transaction: | \b\b/ \b\b- \b\b\\ \b\b| \b\b/ \b\b- \b\b\\ \b\b| \b\b/ \b\b- \b\b\\ \b\b| \b\b/ \b\b- \b\b\\ \b\b| \b\b/ \b\b- \b\b\\ \b\b| \b\b/ \b\b- \b\bdone\n",
            "Verifying transaction: | \b\b/ \b\b- \b\b\\ \b\b| \b\b/ \b\b- \b\b\\ \b\b| \b\b/ \b\b- \b\b\\ \b\b| \b\b/ \b\b- \b\b\\ \b\b| \b\b/ \b\b- \b\b\\ \b\b| \b\b/ \b\b- \b\b\\ \b\b| \b\b/ \b\b- \b\b\\ \b\b| \b\b/ \b\b- \b\b\\ \b\b| \b\b/ \b\b- \b\b\\ \b\b| \b\b/ \b\b- \b\b\\ \b\b| \b\b/ \b\b- \b\b\\ \b\b| \b\b/ \b\b- \b\b\\ \b\b| \b\b/ \b\b- \b\b\\ \b\b| \b\b/ \b\b- \b\b\\ \b\b| \b\b/ \b\b- \b\b\\ \b\b| \b\b/ \b\b- \b\b\\ \b\b| \b\b/ \b\b- \b\b\\ \b\b| \b\b/ \b\b- \b\b\\ \b\b| \b\b/ \b\bdone\n",
            "Executing transaction: \\ \b\b| \b\b/ \b\b- \b\b\\ \b\b| \b\b/ \b\b- \b\b\\ \b\b| \b\b/ \b\b- \b\b\\ \b\b| \b\b/ \b\b- \b\b\\ \b\b| \b\b/ \b\b- \b\b\\ \b\b| \b\b/ \b\b- \b\b\\ \b\b| \b\b/ \b\b- \b\b\\ \b\b| \b\b/ \b\b- \b\b\\ \b\b| \b\b/ \b\b- \b\b\\ \b\b| \b\b/ \b\b- \b\b\\ \b\b| \b\b/ \b\b- \b\b\\ b'Enabling notebook extension jupyter-js-widgets/extension...\\nPaths used for configuration of notebook: \\n    \\t/usr/local/etc/jupyter/nbconfig/notebook.d/plotlywidget.json\\n    \\t/usr/local/etc/jupyter/nbconfig/notebook.d/widgetsnbextension.json\\n    \\t/usr/local/etc/jupyter/nbconfig/notebook.json\\nPaths used for configuration of notebook: \\n    \\t/usr/local/etc/jupyter/nbconfig/notebook.d/plotlywidget.json\\n    \\t/usr/local/etc/jupyter/nbconfig/notebook.d/widgetsnbextension.json\\n      - Validating: \\x1b[32mOK\\x1b[0m\\nPaths used for configuration of notebook: \\n    \\t/usr/local/etc/jupyter/nbconfig/notebook.d/plotlywidget.json\\n    \\t/usr/local/etc/jupyter/nbconfig/notebook.d/widgetsnbextension.json\\n    \\t/usr/local/etc/jupyter/nbconfig/notebook.json\\n'\n",
            "\b\b| \b\b/ \b\b- \b\b\\ \b\b| \b\b/ \b\b- \b\b\\ \b\b| \b\b/ \b\b- \b\b\\ \b\b| \b\b/ \b\b- \b\b\\ \b\b| \b\b/ \b\b- \b\b\\ \b\b| \b\b/ \b\b- \b\b\\ \b\b| \b\b/ \b\b- \b\b\\ \b\b| \b\b/ \b\b- \b\b\\ \b\b| \b\b/ \b\b- \b\b\\ \b\b| \b\b/ \b\b- \b\b\\ \b\b| \b\b/ \b\b- \b\b\\ \b\b| \b\b/ \b\b- \b\b\\ \b\b| \b\b/ \b\b- \b\b\\ \b\b| \b\b/ \b\b- \b\b\\ \b\b| \b\b/ \b\b- \b\b\\ \b\b| \b\b/ \b\b- \b\b\\ \b\b| \b\b/ \b\b- \b\b\\ \b\bdone\n"
          ],
          "name": "stdout"
        }
      ]
    },
    {
      "cell_type": "code",
      "metadata": {
        "id": "aeyE9WrSB9Ls",
        "colab_type": "code",
        "colab": {
          "base_uri": "https://localhost:8080/",
          "height": 122
        },
        "outputId": "115d1a34-0fff-4b1c-dc1d-2af090a8aefe"
      },
      "source": [
        "!git clone https://github.com/PatWalters/rd_filters"
      ],
      "execution_count": null,
      "outputs": [
        {
          "output_type": "stream",
          "text": [
            "Cloning into 'rd_filters'...\n",
            "remote: Enumerating objects: 25, done.\u001b[K\n",
            "remote: Counting objects:   4% (1/25)\u001b[K\rremote: Counting objects:   8% (2/25)\u001b[K\rremote: Counting objects:  12% (3/25)\u001b[K\rremote: Counting objects:  16% (4/25)\u001b[K\rremote: Counting objects:  20% (5/25)\u001b[K\rremote: Counting objects:  24% (6/25)\u001b[K\rremote: Counting objects:  28% (7/25)\u001b[K\rremote: Counting objects:  32% (8/25)\u001b[K\rremote: Counting objects:  36% (9/25)\u001b[K\rremote: Counting objects:  40% (10/25)\u001b[K\rremote: Counting objects:  44% (11/25)\u001b[K\rremote: Counting objects:  48% (12/25)\u001b[K\rremote: Counting objects:  52% (13/25)\u001b[K\rremote: Counting objects:  56% (14/25)\u001b[K\rremote: Counting objects:  60% (15/25)\u001b[K\rremote: Counting objects:  64% (16/25)\u001b[K\rremote: Counting objects:  68% (17/25)\u001b[K\rremote: Counting objects:  72% (18/25)\u001b[K\rremote: Counting objects:  76% (19/25)\u001b[K\rremote: Counting objects:  80% (20/25)\u001b[K\rremote: Counting objects:  84% (21/25)\u001b[K\rremote: Counting objects:  88% (22/25)\u001b[K\rremote: Counting objects:  92% (23/25)\u001b[K\rremote: Counting objects:  96% (24/25)\u001b[K\rremote: Counting objects: 100% (25/25)\u001b[K\rremote: Counting objects: 100% (25/25), done.\u001b[K\n",
            "remote: Compressing objects:   6% (1/16)\u001b[K\rremote: Compressing objects:  12% (2/16)\u001b[K\rremote: Compressing objects:  18% (3/16)\u001b[K\rremote: Compressing objects:  25% (4/16)\u001b[K\rremote: Compressing objects:  31% (5/16)\u001b[K\rremote: Compressing objects:  37% (6/16)\u001b[K\rremote: Compressing objects:  43% (7/16)\u001b[K\rremote: Compressing objects:  50% (8/16)\u001b[K\rremote: Compressing objects:  56% (9/16)\u001b[K\rremote: Compressing objects:  62% (10/16)\u001b[K\rremote: Compressing objects:  68% (11/16)\u001b[K\rremote: Compressing objects:  75% (12/16)\u001b[K\rremote: Compressing objects:  81% (13/16)\u001b[K\rremote: Compressing objects:  87% (14/16)\u001b[K\rremote: Compressing objects:  93% (15/16)\u001b[K\rremote: Compressing objects: 100% (16/16)\u001b[K\rremote: Compressing objects: 100% (16/16), done.\u001b[K\n",
            "Unpacking objects:   1% (1/78)   \rUnpacking objects:   2% (2/78)   \rUnpacking objects:   3% (3/78)   \rUnpacking objects:   5% (4/78)   \rUnpacking objects:   6% (5/78)   \rUnpacking objects:   7% (6/78)   \rUnpacking objects:   8% (7/78)   \rUnpacking objects:  10% (8/78)   \rUnpacking objects:  11% (9/78)   \rUnpacking objects:  12% (10/78)   \rUnpacking objects:  14% (11/78)   \rUnpacking objects:  15% (12/78)   \rUnpacking objects:  16% (13/78)   \rUnpacking objects:  17% (14/78)   \rUnpacking objects:  19% (15/78)   \rremote: Total 78 (delta 11), reused 21 (delta 8), pack-reused 53\u001b[K\n",
            "Unpacking objects:  20% (16/78)   \rUnpacking objects:  21% (17/78)   \rUnpacking objects:  23% (18/78)   \rUnpacking objects:  24% (19/78)   \rUnpacking objects:  25% (20/78)   \rUnpacking objects:  26% (21/78)   \rUnpacking objects:  28% (22/78)   \rUnpacking objects:  29% (23/78)   \rUnpacking objects:  30% (24/78)   \rUnpacking objects:  32% (25/78)   \rUnpacking objects:  33% (26/78)   \rUnpacking objects:  34% (27/78)   \rUnpacking objects:  35% (28/78)   \rUnpacking objects:  37% (29/78)   \rUnpacking objects:  38% (30/78)   \rUnpacking objects:  39% (31/78)   \rUnpacking objects:  41% (32/78)   \rUnpacking objects:  42% (33/78)   \rUnpacking objects:  43% (34/78)   \rUnpacking objects:  44% (35/78)   \rUnpacking objects:  46% (36/78)   \rUnpacking objects:  47% (37/78)   \rUnpacking objects:  48% (38/78)   \rUnpacking objects:  50% (39/78)   \rUnpacking objects:  51% (40/78)   \rUnpacking objects:  52% (41/78)   \rUnpacking objects:  53% (42/78)   \rUnpacking objects:  55% (43/78)   \rUnpacking objects:  56% (44/78)   \rUnpacking objects:  57% (45/78)   \rUnpacking objects:  58% (46/78)   \rUnpacking objects:  60% (47/78)   \rUnpacking objects:  61% (48/78)   \rUnpacking objects:  62% (49/78)   \rUnpacking objects:  64% (50/78)   \rUnpacking objects:  65% (51/78)   \rUnpacking objects:  66% (52/78)   \rUnpacking objects:  67% (53/78)   \rUnpacking objects:  69% (54/78)   \rUnpacking objects:  70% (55/78)   \rUnpacking objects:  71% (56/78)   \rUnpacking objects:  73% (57/78)   \rUnpacking objects:  74% (58/78)   \rUnpacking objects:  75% (59/78)   \rUnpacking objects:  76% (60/78)   \rUnpacking objects:  78% (61/78)   \rUnpacking objects:  79% (62/78)   \rUnpacking objects:  80% (63/78)   \rUnpacking objects:  82% (64/78)   \rUnpacking objects:  83% (65/78)   \rUnpacking objects:  84% (66/78)   \rUnpacking objects:  85% (67/78)   \rUnpacking objects:  87% (68/78)   \rUnpacking objects:  88% (69/78)   \rUnpacking objects:  89% (70/78)   \rUnpacking objects:  91% (71/78)   \rUnpacking objects:  92% (72/78)   \rUnpacking objects:  93% (73/78)   \rUnpacking objects:  94% (74/78)   \rUnpacking objects:  96% (75/78)   \rUnpacking objects:  97% (76/78)   \rUnpacking objects:  98% (77/78)   \rUnpacking objects: 100% (78/78)   \rUnpacking objects: 100% (78/78), done.\n"
          ],
          "name": "stdout"
        }
      ]
    },
    {
      "cell_type": "code",
      "metadata": {
        "id": "c-ywT5z7CP1I",
        "colab_type": "code",
        "colab": {
          "base_uri": "https://localhost:8080/",
          "height": 34
        },
        "outputId": "dfb53726-ebbb-4a3f-c83c-3c59e92d1af5"
      },
      "source": [
        "%cd rd_filters/"
      ],
      "execution_count": null,
      "outputs": [
        {
          "output_type": "stream",
          "text": [
            "/content/rd_filters\n"
          ],
          "name": "stdout"
        }
      ]
    },
    {
      "cell_type": "code",
      "metadata": {
        "id": "VlLydj0yCWii",
        "colab_type": "code",
        "colab": {
          "base_uri": "https://localhost:8080/",
          "height": 354
        },
        "outputId": "ec51f993-0d0b-4b67-efe4-213181ff09eb"
      },
      "source": [
        "pip install ."
      ],
      "execution_count": null,
      "outputs": [
        {
          "output_type": "stream",
          "text": [
            "Processing /content/rd_filters\n",
            "Requirement already satisfied: pandas in /usr/local/lib/python3.7/site-packages (from rd-filters==0.1) (1.0.5)\n",
            "Collecting docopt\n",
            "  Downloading docopt-0.6.2.tar.gz (25 kB)\n",
            "Requirement already satisfied: numpy>=1.13.3 in /usr/local/lib/python3.7/site-packages (from pandas->rd-filters==0.1) (1.18.5)\n",
            "Requirement already satisfied: python-dateutil>=2.6.1 in /usr/local/lib/python3.7/site-packages (from pandas->rd-filters==0.1) (2.8.1)\n",
            "Requirement already satisfied: pytz>=2017.2 in /usr/local/lib/python3.7/site-packages (from pandas->rd-filters==0.1) (2020.1)\n",
            "Requirement already satisfied: six>=1.5 in /usr/local/lib/python3.7/site-packages (from python-dateutil>=2.6.1->pandas->rd-filters==0.1) (1.14.0)\n",
            "Building wheels for collected packages: rd-filters, docopt\n",
            "  Building wheel for rd-filters (setup.py) ... \u001b[?25l\u001b[?25hdone\n",
            "  Created wheel for rd-filters: filename=rd_filters-0.1-py3-none-any.whl size=33803 sha256=28905caf439458a01a9b7d26b8439e5e3c59c63bb26161a8aa969c2d5c354dbd\n",
            "  Stored in directory: /tmp/pip-ephem-wheel-cache-zdf2ii_x/wheels/56/24/d7/4752c8b3ace86c59df2975093c9af8f086670481da9bc20861\n",
            "  Building wheel for docopt (setup.py) ... \u001b[?25l\u001b[?25hdone\n",
            "  Created wheel for docopt: filename=docopt-0.6.2-py2.py3-none-any.whl size=13704 sha256=e7f8b72d68cb8c763fb49102cab56098f64454e6c5f7263dbf0ad5b31b7561a8\n",
            "  Stored in directory: /root/.cache/pip/wheels/72/b0/3f/1d95f96ff986c7dfffe46ce2be4062f38ebd04b506c77c81b9\n",
            "Successfully built rd-filters docopt\n",
            "Installing collected packages: docopt, rd-filters\n",
            "Successfully installed docopt-0.6.2 rd-filters-0.1\n"
          ],
          "name": "stdout"
        }
      ]
    },
    {
      "cell_type": "code",
      "metadata": {
        "id": "Qr-9hygMEhsz",
        "colab_type": "code",
        "colab": {
          "base_uri": "https://localhost:8080/",
          "height": 210
        },
        "outputId": "a3622091-f836-43b0-fded-93b74894cf9c"
      },
      "source": [
        "!rd_filters -h"
      ],
      "execution_count": null,
      "outputs": [
        {
          "output_type": "stream",
          "text": [
            "Usage:\n",
            "rd_filters filter --in INPUT_FILE --prefix PREFIX [--rules RULES_FILE_NAME] [--alerts ALERT_FILE_NAME][--np NUM_CORES]\n",
            "rd_filters template --out TEMPLATE_FILE [--rules RULES_FILE_NAME]\n",
            "\n",
            "Options:\n",
            "--in INPUT_FILE input file name\n",
            "--prefix PREFIX prefix for output file names\n",
            "--rules RULES_FILE_NAME name of the rules JSON file\n",
            "--alerts ALERTS_FILE_NAME name of the structural alerts file\n",
            "--np NUM_CORES the number of cpu cores to use (default is all)\n",
            "--out TEMPLATE_FILE parameter template file name\n"
          ],
          "name": "stdout"
        }
      ]
    },
    {
      "cell_type": "code",
      "metadata": {
        "id": "IRocUid-CbOn",
        "colab_type": "code",
        "colab": {
          "resources": {
            "http://localhost:8080/nbextensions/google.colab/files.js": {
              "data": "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",
              "ok": true,
              "headers": [
                [
                  "content-type",
                  "application/javascript"
                ]
              ],
              "status": 200,
              "status_text": ""
            }
          },
          "base_uri": "https://localhost:8080/",
          "height": 91
        },
        "outputId": "19ab8a9c-3abb-4d35-e553-496c574036dd"
      },
      "source": [
        "from google.colab import files\n",
        "\n",
        "uploaded = files.upload()\n",
        "\n",
        "for fn in uploaded.keys():\n",
        "  print('User uploaded file \"{name}\" with length {length} bytes'.format(\n",
        "      name=fn, length=len(uploaded[fn])))"
      ],
      "execution_count": null,
      "outputs": [
        {
          "output_type": "display_data",
          "data": {
            "text/html": [
              "\n",
              "     <input type=\"file\" id=\"files-df20eb27-b96f-4679-accc-c51e7bfbe6d0\" name=\"files[]\" multiple disabled\n",
              "        style=\"border:none\" />\n",
              "     <output id=\"result-df20eb27-b96f-4679-accc-c51e7bfbe6d0\">\n",
              "      Upload widget is only available when the cell has been executed in the\n",
              "      current browser session. Please rerun this cell to enable.\n",
              "      </output>\n",
              "      <script src=\"/nbextensions/google.colab/files.js\"></script> "
            ],
            "text/plain": [
              "<IPython.core.display.HTML object>"
            ]
          },
          "metadata": {
            "tags": []
          }
        },
        {
          "output_type": "stream",
          "text": [
            "Saving zinc_100k.smi to zinc_100k.smi\n",
            "User uploaded file \"zinc_100k.smi\" with length 6207249 bytes\n"
          ],
          "name": "stdout"
        }
      ]
    },
    {
      "cell_type": "code",
      "metadata": {
        "id": "QH-Zy-z5E0tp",
        "colab_type": "code",
        "colab": {
          "base_uri": "https://localhost:8080/",
          "height": 52
        },
        "outputId": "6b32f13a-0afb-4009-bc03-91388aecbe91"
      },
      "source": [
        "%ls"
      ],
      "execution_count": null,
      "outputs": [
        {
          "output_type": "stream",
          "text": [
            "HIV.smi  MANIFEST.in  \u001b[0m\u001b[01;34mrd_filters\u001b[0m/  setup.py\n",
            "LICENSE  Notes.txt    README.md    zinc_100k.smi\n"
          ],
          "name": "stdout"
        }
      ]
    },
    {
      "cell_type": "code",
      "metadata": {
        "id": "FX5nJGy3F3cp",
        "colab_type": "code",
        "colab": {
          "base_uri": "https://localhost:8080/",
          "height": 34
        },
        "outputId": "4dd18d54-fae1-4ea2-b0ac-1fe92fca77c0"
      },
      "source": [
        "%cat zinc_100k.smi|wc -l"
      ],
      "execution_count": null,
      "outputs": [
        {
          "output_type": "stream",
          "text": [
            "100000\n"
          ],
          "name": "stdout"
        }
      ]
    },
    {
      "cell_type": "code",
      "metadata": {
        "id": "kzwySE8LKFoB",
        "colab_type": "code",
        "colab": {
          "base_uri": "https://localhost:8080/",
          "height": 122
        },
        "outputId": "33658253-6c83-4468-fe62-9dceb0fdd3e4"
      },
      "source": [
        "!rd_filters filter --in zinc_100k.smi --prefix zinc"
      ],
      "execution_count": null,
      "outputs": [
        {
          "output_type": "stream",
          "text": [
            "using 2 cores\n",
            "Using alerts from Inpharmatica\n",
            "Wrote SMILES for molecules passing filters to zinc.smi\n",
            "Wrote detailed data to zinc.csv\n",
            "68410 of 100000 passed filters 68.4%\n",
            "Elapsed time 93.27 seconds\n"
          ],
          "name": "stdout"
        }
      ]
    },
    {
      "cell_type": "code",
      "metadata": {
        "id": "O8V-mxRtORaX",
        "colab_type": "code",
        "colab": {
          "base_uri": "https://localhost:8080/",
          "height": 52
        },
        "outputId": "fdf55e1c-c9f6-4822-f814-d7e9446d5376"
      },
      "source": [
        "%ls"
      ],
      "execution_count": null,
      "outputs": [
        {
          "output_type": "stream",
          "text": [
            "HIV.smi  MANIFEST.in  \u001b[0m\u001b[01;34mrd_filters\u001b[0m/  setup.py       zinc.csv\n",
            "LICENSE  Notes.txt    README.md    zinc_100k.smi  zinc.smi\n"
          ],
          "name": "stdout"
        }
      ]
    },
    {
      "cell_type": "code",
      "metadata": {
        "id": "lcrTxEUAOS0U",
        "colab_type": "code",
        "colab": {
          "base_uri": "https://localhost:8080/",
          "height": 195
        },
        "outputId": "efdc9ca4-1751-43b7-c513-1ffb240f4d7f"
      },
      "source": [
        "import pandas as pd\n",
        "zinc_df = pd.read_csv(\"zinc.csv\")\n",
        "zinc_df.head()\n"
      ],
      "execution_count": null,
      "outputs": [
        {
          "output_type": "execute_result",
          "data": {
            "text/html": [
              "<div>\n",
              "<style scoped>\n",
              "    .dataframe tbody tr th:only-of-type {\n",
              "        vertical-align: middle;\n",
              "    }\n",
              "\n",
              "    .dataframe tbody tr th {\n",
              "        vertical-align: top;\n",
              "    }\n",
              "\n",
              "    .dataframe thead th {\n",
              "        text-align: right;\n",
              "    }\n",
              "</style>\n",
              "<table border=\"1\" class=\"dataframe\">\n",
              "  <thead>\n",
              "    <tr style=\"text-align: right;\">\n",
              "      <th></th>\n",
              "      <th>SMILES</th>\n",
              "      <th>NAME</th>\n",
              "      <th>FILTER</th>\n",
              "      <th>MW</th>\n",
              "      <th>LogP</th>\n",
              "      <th>HBD</th>\n",
              "      <th>HBA</th>\n",
              "      <th>TPSA</th>\n",
              "      <th>Rot</th>\n",
              "    </tr>\n",
              "  </thead>\n",
              "  <tbody>\n",
              "    <tr>\n",
              "      <th>0</th>\n",
              "      <td>CN(CCO)C[C@@H](O)Cn1cnc2c1c(=O)n(C)c(=O)n2C</td>\n",
              "      <td>ZINC000000000843</td>\n",
              "      <td>Filter82_pyridinium &gt; 0</td>\n",
              "      <td>311.342</td>\n",
              "      <td>-2.2813</td>\n",
              "      <td>2</td>\n",
              "      <td>9</td>\n",
              "      <td>105.52</td>\n",
              "      <td>6</td>\n",
              "    </tr>\n",
              "    <tr>\n",
              "      <th>1</th>\n",
              "      <td>O=c1[nH]c(=O)n([C@@H]2C[C@@H](O)[C@H](CO)O2)cc1Br</td>\n",
              "      <td>ZINC000000001063</td>\n",
              "      <td>Filter9_metal &gt; 0</td>\n",
              "      <td>307.100</td>\n",
              "      <td>-1.0602</td>\n",
              "      <td>3</td>\n",
              "      <td>6</td>\n",
              "      <td>104.55</td>\n",
              "      <td>2</td>\n",
              "    </tr>\n",
              "    <tr>\n",
              "      <th>2</th>\n",
              "      <td>Cn1c2ncn(CC(=O)N3CCOCC3)c2c(=O)n(C)c1=O</td>\n",
              "      <td>ZINC000000003942</td>\n",
              "      <td>Filter82_pyridinium &gt; 0</td>\n",
              "      <td>307.310</td>\n",
              "      <td>-1.7075</td>\n",
              "      <td>0</td>\n",
              "      <td>8</td>\n",
              "      <td>91.36</td>\n",
              "      <td>2</td>\n",
              "    </tr>\n",
              "    <tr>\n",
              "      <th>3</th>\n",
              "      <td>CN1C(=O)C[C@H](N2CCN(C(=O)CN3CCCC3)CC2)C1=O</td>\n",
              "      <td>ZINC000000036436</td>\n",
              "      <td>OK</td>\n",
              "      <td>308.382</td>\n",
              "      <td>-1.0163</td>\n",
              "      <td>0</td>\n",
              "      <td>5</td>\n",
              "      <td>64.17</td>\n",
              "      <td>3</td>\n",
              "    </tr>\n",
              "    <tr>\n",
              "      <th>4</th>\n",
              "      <td>CC(=O)NC[C@H](O)[C@H]1O[C@H]2OC(C)(C)O[C@H]2[C...</td>\n",
              "      <td>ZINC000000041101</td>\n",
              "      <td>OK</td>\n",
              "      <td>302.327</td>\n",
              "      <td>-1.1355</td>\n",
              "      <td>3</td>\n",
              "      <td>6</td>\n",
              "      <td>106.12</td>\n",
              "      <td>4</td>\n",
              "    </tr>\n",
              "  </tbody>\n",
              "</table>\n",
              "</div>"
            ],
            "text/plain": [
              "                                              SMILES  ... Rot\n",
              "0        CN(CCO)C[C@@H](O)Cn1cnc2c1c(=O)n(C)c(=O)n2C  ...   6\n",
              "1  O=c1[nH]c(=O)n([C@@H]2C[C@@H](O)[C@H](CO)O2)cc1Br  ...   2\n",
              "2            Cn1c2ncn(CC(=O)N3CCOCC3)c2c(=O)n(C)c1=O  ...   2\n",
              "3        CN1C(=O)C[C@H](N2CCN(C(=O)CN3CCCC3)CC2)C1=O  ...   3\n",
              "4  CC(=O)NC[C@H](O)[C@H]1O[C@H]2OC(C)(C)O[C@H]2[C...  ...   4\n",
              "\n",
              "[5 rows x 9 columns]"
            ]
          },
          "metadata": {
            "tags": []
          },
          "execution_count": 58
        }
      ]
    },
    {
      "cell_type": "code",
      "metadata": {
        "id": "ZQyYHTBDOcsZ",
        "colab_type": "code",
        "colab": {
          "base_uri": "https://localhost:8080/",
          "height": 195
        },
        "outputId": "b87cbaf1-43b2-4afa-bc67-d028ed4a0023"
      },
      "source": [
        "from collections import Counter\n",
        "count_list = list(Counter(zinc_df.FILTER).items())\n",
        "count_df = pd.DataFrame(count_list,columns=[\"Rule\",\"Count\"])\n",
        "count_df.sort_values(\"Count\",inplace=True,ascending=False)\n",
        "count_df.head()"
      ],
      "execution_count": null,
      "outputs": [
        {
          "output_type": "execute_result",
          "data": {
            "text/html": [
              "<div>\n",
              "<style scoped>\n",
              "    .dataframe tbody tr th:only-of-type {\n",
              "        vertical-align: middle;\n",
              "    }\n",
              "\n",
              "    .dataframe tbody tr th {\n",
              "        vertical-align: top;\n",
              "    }\n",
              "\n",
              "    .dataframe thead th {\n",
              "        text-align: right;\n",
              "    }\n",
              "</style>\n",
              "<table border=\"1\" class=\"dataframe\">\n",
              "  <thead>\n",
              "    <tr style=\"text-align: right;\">\n",
              "      <th></th>\n",
              "      <th>Rule</th>\n",
              "      <th>Count</th>\n",
              "    </tr>\n",
              "  </thead>\n",
              "  <tbody>\n",
              "    <tr>\n",
              "      <th>2</th>\n",
              "      <td>OK</td>\n",
              "      <td>69148</td>\n",
              "    </tr>\n",
              "    <tr>\n",
              "      <th>7</th>\n",
              "      <td>Filter41_12_dicarbonyl &gt; 0</td>\n",
              "      <td>19330</td>\n",
              "    </tr>\n",
              "    <tr>\n",
              "      <th>0</th>\n",
              "      <td>Filter82_pyridinium &gt; 0</td>\n",
              "      <td>7713</td>\n",
              "    </tr>\n",
              "    <tr>\n",
              "      <th>11</th>\n",
              "      <td>Filter93_acetyl_urea &gt; 0</td>\n",
              "      <td>1541</td>\n",
              "    </tr>\n",
              "    <tr>\n",
              "      <th>12</th>\n",
              "      <td>Filter78_bicyclic_Imide &gt; 0</td>\n",
              "      <td>825</td>\n",
              "    </tr>\n",
              "  </tbody>\n",
              "</table>\n",
              "</div>"
            ],
            "text/plain": [
              "                           Rule  Count\n",
              "2                            OK  69148\n",
              "7    Filter41_12_dicarbonyl > 0  19330\n",
              "0       Filter82_pyridinium > 0   7713\n",
              "11     Filter93_acetyl_urea > 0   1541\n",
              "12  Filter78_bicyclic_Imide > 0    825"
            ]
          },
          "metadata": {
            "tags": []
          },
          "execution_count": 60
        }
      ]
    },
    {
      "cell_type": "code",
      "metadata": {
        "id": "jB0J_rkHOnfN",
        "colab_type": "code",
        "colab": {}
      },
      "source": [
        "smiles_list = zinc_df[zinc_df.FILTER == \"Filter41_12_dicarbonyl > 0\"].SMILES[:10]\n"
      ],
      "execution_count": null,
      "outputs": []
    },
    {
      "cell_type": "code",
      "metadata": {
        "id": "KQR8B987Ovv2",
        "colab_type": "code",
        "colab": {
          "base_uri": "https://localhost:8080/",
          "height": 417
        },
        "outputId": "192efb45-fd8e-47f4-c5fb-fa7d5fe698cf"
      },
      "source": [
        "from rdkit import Chem\n",
        "from rdkit.Chem import Draw\n",
        "\n",
        "mol_list = [Chem.MolFromSmiles(x) for x in smiles_list]\n",
        "dicarbonyl = Chem.MolFromSmarts('*C(=O)C(=O)*')\n",
        "match_list = [mol.GetSubstructMatch(dicarbonyl) for mol in mol_list]\n",
        "Draw.MolsToGridImage(mol_list,highlightAtomLists=match_list,molsPerRow=5)"
      ],
      "execution_count": null,
      "outputs": [
        {
          "output_type": "execute_result",
          "data": {
            "image/png": "[encoded data removed]",
            "text/plain": [
              "<PIL.PngImagePlugin.PngImageFile image mode=RGB size=1000x400 at 0x7F2899414208>"
            ]
          },
          "metadata": {
            "tags": []
          },
          "execution_count": 64
        }
      ]
    },
    {
      "cell_type": "code",
      "metadata": {
        "id": "ubHKEtB7SiE2",
        "colab_type": "code",
        "colab": {}
      },
      "source": [
        "OK_df = zinc_df.query('FILTER == \\'OK\\'').copy()\n",
        "OK_df.to_csv('zinc_69k.csv')"
      ],
      "execution_count": null,
      "outputs": []
    },
    {
      "cell_type": "code",
      "metadata": {
        "id": "O1tC2L2mSyCf",
        "colab_type": "code",
        "colab": {}
      },
      "source": [
        "%cat zinc_69k.csv"
      ],
      "execution_count": null,
      "outputs": []
    },
    {
      "cell_type": "code",
      "metadata": {
        "id": "nCVWWu7zTb2H",
        "colab_type": "code",
        "colab": {
          "base_uri": "https://localhost:8080/",
          "height": 17
        },
        "outputId": "95039ebc-96c0-43e3-fad3-6b9f0e82da9c"
      },
      "source": [
        "from google.colab import files\n",
        "files.download('zinc_69k.csv')"
      ],
      "execution_count": null,
      "outputs": [
        {
          "output_type": "display_data",
          "data": {
            "application/javascript": [
              "\n",
              "    async function download(id, filename, size) {\n",
              "      if (!google.colab.kernel.accessAllowed) {\n",
              "        return;\n",
              "      }\n",
              "      const div = document.createElement('div');\n",
              "      const label = document.createElement('label');\n",
              "      label.textContent = `Downloading \"${filename}\": `;\n",
              "      div.appendChild(label);\n",
              "      const progress = document.createElement('progress');\n",
              "      progress.max = size;\n",
              "      div.appendChild(progress);\n",
              "      document.body.appendChild(div);\n",
              "\n",
              "      const buffers = [];\n",
              "      let downloaded = 0;\n",
              "\n",
              "      const channel = await google.colab.kernel.comms.open(id);\n",
              "      // Send a message to notify the kernel that we're ready.\n",
              "      channel.send({})\n",
              "\n",
              "      for await (const message of channel.messages) {\n",
              "        // Send a message to notify the kernel that we're ready.\n",
              "        channel.send({})\n",
              "        if (message.buffers) {\n",
              "          for (const buffer of message.buffers) {\n",
              "            buffers.push(buffer);\n",
              "            downloaded += buffer.byteLength;\n",
              "            progress.value = downloaded;\n",
              "          }\n",
              "        }\n",
              "      }\n",
              "      const blob = new Blob(buffers, {type: 'application/binary'});\n",
              "      const a = document.createElement('a');\n",
              "      a.href = window.URL.createObjectURL(blob);\n",
              "      a.download = filename;\n",
              "      div.appendChild(a);\n",
              "      a.click();\n",
              "      div.remove();\n",
              "    }\n",
              "  "
            ],
            "text/plain": [
              "<IPython.core.display.Javascript object>"
            ]
          },
          "metadata": {
            "tags": []
          }
        },
        {
          "output_type": "display_data",
          "data": {
            "application/javascript": [
              "download(\"download_9a9dc28d-0fff-463d-87e4-d4f7fe86d136\", \"zinc_69k.csv\", 8401507)"
            ],
            "text/plain": [
              "<IPython.core.display.Javascript object>"
            ]
          },
          "metadata": {
            "tags": []
          }
        }
      ]
    }
  ]
}